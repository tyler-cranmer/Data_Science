{
 "cells": [
  {
   "cell_type": "code",
   "execution_count": 1,
   "metadata": {},
   "outputs": [],
   "source": [
    "%matplotlib inline\n",
    "import numpy as np\n",
    "import scipy as sp\n",
    "import scipy.stats as stats\n",
    "import pandas as pd\n",
    "import matplotlib.pyplot as plt\n",
    "import seaborn as sns\n",
    "# Set color map to have light blue background\n",
    "sns.set()\n",
    "import statsmodels.formula.api as smf\n",
    "import statsmodels.api as sm"
   ]
  },
  {
   "cell_type": "markdown",
   "metadata": {},
   "source": [
    "N.B.: I recommend that you use the `statsmodel` library to do the regression analysis as opposed to *e.g.* `sklearn`. The `sklearn` library is great for advanced topics, but it's easier to get lost in a sea of details and it's not needed for these problems."
   ]
  },
  {
   "cell_type": "markdown",
   "metadata": {},
   "source": [
    "# 1.  Fitting a Regression Model [10 points]"
   ]
  },
  {
   "cell_type": "markdown",
   "metadata": {},
   "source": [
    "Using the following data:"
   ]
  },
  {
   "cell_type": "code",
   "execution_count": 2,
   "metadata": {
    "nbgrader": {
     "grade": false,
     "grade_id": "cell-a6ed23990d8a02ca",
     "locked": true,
     "schema_version": 1,
     "solution": false
    }
   },
   "outputs": [],
   "source": [
    "poly_x = np.array([-5.        , -4.79591837, -4.59183673, -4.3877551 , -4.18367347,\n",
    "       -3.97959184, -3.7755102 , -3.57142857, -3.36734694, -3.16326531,\n",
    "       -2.95918367, -2.75510204, -2.55102041, -2.34693878, -2.14285714,\n",
    "       -1.93877551, -1.73469388, -1.53061224, -1.32653061, -1.12244898,\n",
    "       -0.91836735, -0.71428571, -0.51020408, -0.30612245, -0.10204082,\n",
    "        0.10204082,  0.30612245,  0.51020408,  0.71428571,  0.91836735,\n",
    "        1.12244898,  1.32653061,  1.53061224,  1.73469388,  1.93877551,\n",
    "        2.14285714,  2.34693878,  2.55102041,  2.75510204,  2.95918367,\n",
    "        3.16326531,  3.36734694,  3.57142857,  3.7755102 ,  3.97959184,\n",
    "        4.18367347,  4.3877551 ,  4.59183673,  4.79591837,  5.        ])"
   ]
  },
  {
   "cell_type": "code",
   "execution_count": 3,
   "metadata": {
    "nbgrader": {
     "grade": false,
     "grade_id": "cell-99762b58eb8a91ea",
     "locked": true,
     "schema_version": 1,
     "solution": false
    }
   },
   "outputs": [],
   "source": [
    "poly_y = np.array([-126.99769104, -121.76363745, -107.05551625,  -66.4135443 ,\n",
    "        -51.66992718,  -40.69610161,  -45.38354202,  -58.75964619,\n",
    "        -39.16974993,  -33.85796291,  -28.04111151,  -36.81766799,\n",
    "        -18.28088923,   -6.45665831,  -29.47435017,   -0.75081722,\n",
    "        -28.57616465,   15.16568923,   16.59302615,   -2.78764992,\n",
    "        -11.75883341,   13.12494657,   -1.88394446,   22.02465669,\n",
    "        -16.55482107,   -2.91427672,  -15.78789502,   11.2687875 ,\n",
    "        -23.09030237,   -3.7153776 ,    7.87571976,   22.1994704 ,\n",
    "         -5.909068  ,   -0.56562841,   25.03561638,   -5.8824932 ,\n",
    "         -4.52039745,   31.85118924,   41.35070605,   47.13163559,\n",
    "         26.12835471,   17.40423706,   27.98496168,   59.02195887,\n",
    "         68.41065196,   76.08040375,   77.44338322,   83.74765871,\n",
    "        101.37765463,  113.69478397])"
   ]
  },
  {
   "cell_type": "code",
   "execution_count": 4,
   "metadata": {
    "nbgrader": {
     "grade": false,
     "grade_id": "cell-394f091d47473b2f",
     "locked": true,
     "schema_version": 1,
     "solution": false
    }
   },
   "outputs": [],
   "source": [
    "poly = pd.DataFrame( {'x' : poly_x, 'y': poly_y })"
   ]
  },
  {
   "cell_type": "markdown",
   "metadata": {},
   "source": [
    "Fit a regression model to this data that minimizes the $R^2$ as well as the complexity of the model. You should consider the models discussed in the book and lecture (linear, polynomial and logrithmic models). Explain, in comments using '#' how you arrived at your model."
   ]
  },
  {
   "cell_type": "code",
   "execution_count": 5,
   "metadata": {
    "nbgrader": {
     "grade": true,
     "grade_id": "cell-dc43de2d25791f06",
     "locked": false,
     "points": 10,
     "schema_version": 1,
     "solution": true
    }
   },
   "outputs": [
    {
     "data": {
      "text/html": [
       "<table class=\"simpletable\">\n",
       "<caption>OLS Regression Results</caption>\n",
       "<tr>\n",
       "  <th>Dep. Variable:</th>            <td>y</td>        <th>  R-squared:         </th> <td>   0.789</td>\n",
       "</tr>\n",
       "<tr>\n",
       "  <th>Model:</th>                   <td>OLS</td>       <th>  Adj. R-squared:    </th> <td>   0.784</td>\n",
       "</tr>\n",
       "<tr>\n",
       "  <th>Method:</th>             <td>Least Squares</td>  <th>  F-statistic:       </th> <td>   179.3</td>\n",
       "</tr>\n",
       "<tr>\n",
       "  <th>Date:</th>             <td>Fri, 04 Dec 2020</td> <th>  Prob (F-statistic):</th> <td>7.91e-18</td>\n",
       "</tr>\n",
       "<tr>\n",
       "  <th>Time:</th>                 <td>18:36:09</td>     <th>  Log-Likelihood:    </th> <td> -227.51</td>\n",
       "</tr>\n",
       "<tr>\n",
       "  <th>No. Observations:</th>      <td>    50</td>      <th>  AIC:               </th> <td>   459.0</td>\n",
       "</tr>\n",
       "<tr>\n",
       "  <th>Df Residuals:</th>          <td>    48</td>      <th>  BIC:               </th> <td>   462.8</td>\n",
       "</tr>\n",
       "<tr>\n",
       "  <th>Df Model:</th>              <td>     1</td>      <th>                     </th>     <td> </td>   \n",
       "</tr>\n",
       "<tr>\n",
       "  <th>Covariance Type:</th>      <td>nonrobust</td>    <th>                     </th>     <td> </td>   \n",
       "</tr>\n",
       "</table>\n",
       "<table class=\"simpletable\">\n",
       "<tr>\n",
       "      <td></td>         <th>coef</th>     <th>std err</th>      <th>t</th>      <th>P>|t|</th>  <th>[0.025</th>    <th>0.975]</th>  \n",
       "</tr>\n",
       "<tr>\n",
       "  <th>Intercept</th> <td>   -0.6124</td> <td>    3.306</td> <td>   -0.185</td> <td> 0.854</td> <td>   -7.259</td> <td>    6.034</td>\n",
       "</tr>\n",
       "<tr>\n",
       "  <th>x</th>         <td>   15.0308</td> <td>    1.122</td> <td>   13.392</td> <td> 0.000</td> <td>   12.774</td> <td>   17.288</td>\n",
       "</tr>\n",
       "</table>\n",
       "<table class=\"simpletable\">\n",
       "<tr>\n",
       "  <th>Omnibus:</th>       <td> 2.200</td> <th>  Durbin-Watson:     </th> <td>   0.722</td>\n",
       "</tr>\n",
       "<tr>\n",
       "  <th>Prob(Omnibus):</th> <td> 0.333</td> <th>  Jarque-Bera (JB):  </th> <td>   2.051</td>\n",
       "</tr>\n",
       "<tr>\n",
       "  <th>Skew:</th>          <td>-0.412</td> <th>  Prob(JB):          </th> <td>   0.359</td>\n",
       "</tr>\n",
       "<tr>\n",
       "  <th>Kurtosis:</th>      <td> 2.448</td> <th>  Cond. No.          </th> <td>    2.95</td>\n",
       "</tr>\n",
       "</table><br/><br/>Warnings:<br/>[1] Standard Errors assume that the covariance matrix of the errors is correctly specified."
      ],
      "text/plain": [
       "<class 'statsmodels.iolib.summary.Summary'>\n",
       "\"\"\"\n",
       "                            OLS Regression Results                            \n",
       "==============================================================================\n",
       "Dep. Variable:                      y   R-squared:                       0.789\n",
       "Model:                            OLS   Adj. R-squared:                  0.784\n",
       "Method:                 Least Squares   F-statistic:                     179.3\n",
       "Date:                Fri, 04 Dec 2020   Prob (F-statistic):           7.91e-18\n",
       "Time:                        18:36:09   Log-Likelihood:                -227.51\n",
       "No. Observations:                  50   AIC:                             459.0\n",
       "Df Residuals:                      48   BIC:                             462.8\n",
       "Df Model:                           1                                         \n",
       "Covariance Type:            nonrobust                                         \n",
       "==============================================================================\n",
       "                 coef    std err          t      P>|t|      [0.025      0.975]\n",
       "------------------------------------------------------------------------------\n",
       "Intercept     -0.6124      3.306     -0.185      0.854      -7.259       6.034\n",
       "x             15.0308      1.122     13.392      0.000      12.774      17.288\n",
       "==============================================================================\n",
       "Omnibus:                        2.200   Durbin-Watson:                   0.722\n",
       "Prob(Omnibus):                  0.333   Jarque-Bera (JB):                2.051\n",
       "Skew:                          -0.412   Prob(JB):                        0.359\n",
       "Kurtosis:                       2.448   Cond. No.                         2.95\n",
       "==============================================================================\n",
       "\n",
       "Warnings:\n",
       "[1] Standard Errors assume that the covariance matrix of the errors is correctly specified.\n",
       "\"\"\""
      ]
     },
     "execution_count": 5,
     "metadata": {},
     "output_type": "execute_result"
    }
   ],
   "source": [
    "model = smf.ols(formula='y~x', data=poly).fit()\n",
    "model.summary()\n",
    "\n",
    "#I used the regression model on the data. I chose this model, because the R-squared was significant at .789 and then when i checked the model against the qq plot, given the data it seems to fit well."
   ]
  },
  {
   "cell_type": "markdown",
   "metadata": {},
   "source": [
    "# What model and why?\n",
    "\n",
    "I used the regression model on the data. I chose this model, because the R-squared was significant at .789 and then when i checked the model against the qq plot, given the data it seems to fit well. "
   ]
  },
  {
   "cell_type": "code",
   "execution_count": 6,
   "metadata": {},
   "outputs": [
    {
     "data": {
      "image/png": "[encoded data removed]",
      "text/plain": [
       "<Figure size 432x288 with 1 Axes>"
      ]
     },
     "metadata": {},
     "output_type": "display_data"
    }
   ],
   "source": [
    "sm.qqplot(model.resid);"
   ]
  },
  {
   "cell_type": "code",
   "execution_count": 7,
   "metadata": {},
   "outputs": [
    {
     "data": {
      "image/png": "[encoded data removed]",
      "text/plain": [
       "<Figure size 432x288 with 1 Axes>"
      ]
     },
     "metadata": {},
     "output_type": "display_data"
    }
   ],
   "source": [
    "plt.plot(poly.x, poly.y, 'ro');\n",
    "plt.xlabel('X')\n",
    "plt.ylabel('Y');"
   ]
  },
  {
   "cell_type": "markdown",
   "metadata": {},
   "source": [
    "# 2. Multi-Linear Regression [40 pts]"
   ]
  },
  {
   "cell_type": "markdown",
   "metadata": {},
   "source": [
    "In the following problem, you will construct a simple multi-linear regression model, identify interaction terms and use diagnostic plots to identify outliers in the data. The original problem is as described by John Verzani in the [excellent tutorial 'SimplR' on the R statistics language](https://cran.r-project.org/doc/contrib/Verzani-SimpleR.pdf) and uses data from the 2000 presidential election in Florida. The problem is interesting because it contains a small number of highly leveraged points that influence the model."
   ]
  },
  {
   "cell_type": "code",
   "execution_count": 8,
   "metadata": {
    "nbgrader": {
     "grade": false,
     "grade_id": "cell-92b52bca38b3c044",
     "locked": true,
     "schema_version": 1,
     "solution": false
    }
   },
   "outputs": [
    {
     "data": {
      "text/html": [
       "<div>\n",
       "<style scoped>\n",
       "    .dataframe tbody tr th:only-of-type {\n",
       "        vertical-align: middle;\n",
       "    }\n",
       "\n",
       "    .dataframe tbody tr th {\n",
       "        vertical-align: top;\n",
       "    }\n",
       "\n",
       "    .dataframe thead th {\n",
       "        text-align: right;\n",
       "    }\n",
       "</style>\n",
       "<table border=\"1\" class=\"dataframe\">\n",
       "  <thead>\n",
       "    <tr style=\"text-align: right;\">\n",
       "      <th></th>\n",
       "      <th>county</th>\n",
       "      <th>Bush</th>\n",
       "      <th>Gore</th>\n",
       "      <th>Nader</th>\n",
       "      <th>Buchanan</th>\n",
       "    </tr>\n",
       "  </thead>\n",
       "  <tbody>\n",
       "    <tr>\n",
       "      <th>count</th>\n",
       "      <td>67</td>\n",
       "      <td>67.000000</td>\n",
       "      <td>67.000000</td>\n",
       "      <td>67.000000</td>\n",
       "      <td>67.000000</td>\n",
       "    </tr>\n",
       "    <tr>\n",
       "      <th>unique</th>\n",
       "      <td>67</td>\n",
       "      <td>NaN</td>\n",
       "      <td>NaN</td>\n",
       "      <td>NaN</td>\n",
       "      <td>NaN</td>\n",
       "    </tr>\n",
       "    <tr>\n",
       "      <th>top</th>\n",
       "      <td>Okeechobee</td>\n",
       "      <td>NaN</td>\n",
       "      <td>NaN</td>\n",
       "      <td>NaN</td>\n",
       "      <td>NaN</td>\n",
       "    </tr>\n",
       "    <tr>\n",
       "      <th>freq</th>\n",
       "      <td>1</td>\n",
       "      <td>NaN</td>\n",
       "      <td>NaN</td>\n",
       "      <td>NaN</td>\n",
       "      <td>NaN</td>\n",
       "    </tr>\n",
       "    <tr>\n",
       "      <th>mean</th>\n",
       "      <td>NaN</td>\n",
       "      <td>43450.970149</td>\n",
       "      <td>43453.985075</td>\n",
       "      <td>1454.119403</td>\n",
       "      <td>260.880597</td>\n",
       "    </tr>\n",
       "    <tr>\n",
       "      <th>std</th>\n",
       "      <td>NaN</td>\n",
       "      <td>57182.620266</td>\n",
       "      <td>75070.435056</td>\n",
       "      <td>2033.620972</td>\n",
       "      <td>450.498092</td>\n",
       "    </tr>\n",
       "    <tr>\n",
       "      <th>min</th>\n",
       "      <td>NaN</td>\n",
       "      <td>1317.000000</td>\n",
       "      <td>789.000000</td>\n",
       "      <td>19.000000</td>\n",
       "      <td>9.000000</td>\n",
       "    </tr>\n",
       "    <tr>\n",
       "      <th>25%</th>\n",
       "      <td>NaN</td>\n",
       "      <td>4757.000000</td>\n",
       "      <td>3058.000000</td>\n",
       "      <td>95.500000</td>\n",
       "      <td>46.500000</td>\n",
       "    </tr>\n",
       "    <tr>\n",
       "      <th>50%</th>\n",
       "      <td>NaN</td>\n",
       "      <td>20206.000000</td>\n",
       "      <td>14167.000000</td>\n",
       "      <td>562.000000</td>\n",
       "      <td>120.000000</td>\n",
       "    </tr>\n",
       "    <tr>\n",
       "      <th>75%</th>\n",
       "      <td>NaN</td>\n",
       "      <td>56546.500000</td>\n",
       "      <td>46015.000000</td>\n",
       "      <td>1870.500000</td>\n",
       "      <td>285.500000</td>\n",
       "    </tr>\n",
       "    <tr>\n",
       "      <th>max</th>\n",
       "      <td>NaN</td>\n",
       "      <td>289533.000000</td>\n",
       "      <td>387703.000000</td>\n",
       "      <td>10022.000000</td>\n",
       "      <td>3411.000000</td>\n",
       "    </tr>\n",
       "  </tbody>\n",
       "</table>\n",
       "</div>"
      ],
      "text/plain": [
       "            county           Bush           Gore         Nader     Buchanan\n",
       "count           67      67.000000      67.000000     67.000000    67.000000\n",
       "unique          67            NaN            NaN           NaN          NaN\n",
       "top     Okeechobee            NaN            NaN           NaN          NaN\n",
       "freq             1            NaN            NaN           NaN          NaN\n",
       "mean           NaN   43450.970149   43453.985075   1454.119403   260.880597\n",
       "std            NaN   57182.620266   75070.435056   2033.620972   450.498092\n",
       "min            NaN    1317.000000     789.000000     19.000000     9.000000\n",
       "25%            NaN    4757.000000    3058.000000     95.500000    46.500000\n",
       "50%            NaN   20206.000000   14167.000000    562.000000   120.000000\n",
       "75%            NaN   56546.500000   46015.000000   1870.500000   285.500000\n",
       "max            NaN  289533.000000  387703.000000  10022.000000  3411.000000"
      ]
     },
     "execution_count": 8,
     "metadata": {},
     "output_type": "execute_result"
    }
   ],
   "source": [
    "votes = pd.read_csv('fl2000.txt', delim_whitespace=True, comment='#')\n",
    "votes = votes[['county', 'Bush', 'Gore', 'Nader', 'Buchanan']]\n",
    "votes.describe(include='all')"
   ]
  },
  {
   "cell_type": "markdown",
   "metadata": {},
   "source": [
    "### 2a. Plot a pair plot of the data using the `seaborn` library. [5 pts]"
   ]
  },
  {
   "cell_type": "code",
   "execution_count": 9,
   "metadata": {},
   "outputs": [
    {
     "data": {
      "image/png": "[encoded data removed]",
      "text/plain": [
       "<Figure size 720x720 with 20 Axes>"
      ]
     },
     "metadata": {},
     "output_type": "display_data"
    }
   ],
   "source": [
    "sns.pairplot(votes);"
   ]
  },
  {
   "cell_type": "markdown",
   "metadata": {},
   "source": [
    "### 2b. Comment on the relationship between the quantiative datasets. Are they correlated? Colinear? [5 pts]"
   ]
  },
  {
   "cell_type": "code",
   "execution_count": 10,
   "metadata": {
    "nbgrader": {
     "grade": true,
     "grade_id": "cell-27c1f528ed5f94d8",
     "locked": false,
     "points": 5,
     "schema_version": 1,
     "solution": true
    }
   },
   "outputs": [
    {
     "data": {
      "text/html": [
       "<div>\n",
       "<style scoped>\n",
       "    .dataframe tbody tr th:only-of-type {\n",
       "        vertical-align: middle;\n",
       "    }\n",
       "\n",
       "    .dataframe tbody tr th {\n",
       "        vertical-align: top;\n",
       "    }\n",
       "\n",
       "    .dataframe thead th {\n",
       "        text-align: right;\n",
       "    }\n",
       "</style>\n",
       "<table border=\"1\" class=\"dataframe\">\n",
       "  <thead>\n",
       "    <tr style=\"text-align: right;\">\n",
       "      <th></th>\n",
       "      <th>Bush</th>\n",
       "      <th>Gore</th>\n",
       "      <th>Nader</th>\n",
       "      <th>Buchanan</th>\n",
       "    </tr>\n",
       "  </thead>\n",
       "  <tbody>\n",
       "    <tr>\n",
       "      <th>Bush</th>\n",
       "      <td>1.000000</td>\n",
       "      <td>0.912652</td>\n",
       "      <td>0.892249</td>\n",
       "      <td>0.625185</td>\n",
       "    </tr>\n",
       "    <tr>\n",
       "      <th>Gore</th>\n",
       "      <td>0.912652</td>\n",
       "      <td>1.000000</td>\n",
       "      <td>0.864378</td>\n",
       "      <td>0.691314</td>\n",
       "    </tr>\n",
       "    <tr>\n",
       "      <th>Nader</th>\n",
       "      <td>0.892249</td>\n",
       "      <td>0.864378</td>\n",
       "      <td>1.000000</td>\n",
       "      <td>0.654215</td>\n",
       "    </tr>\n",
       "    <tr>\n",
       "      <th>Buchanan</th>\n",
       "      <td>0.625185</td>\n",
       "      <td>0.691314</td>\n",
       "      <td>0.654215</td>\n",
       "      <td>1.000000</td>\n",
       "    </tr>\n",
       "  </tbody>\n",
       "</table>\n",
       "</div>"
      ],
      "text/plain": [
       "              Bush      Gore     Nader  Buchanan\n",
       "Bush      1.000000  0.912652  0.892249  0.625185\n",
       "Gore      0.912652  1.000000  0.864378  0.691314\n",
       "Nader     0.892249  0.864378  1.000000  0.654215\n",
       "Buchanan  0.625185  0.691314  0.654215  1.000000"
      ]
     },
     "execution_count": 10,
     "metadata": {},
     "output_type": "execute_result"
    }
   ],
   "source": [
    "# your answer\n",
    "votes.corr()"
   ]
  },
  {
   "cell_type": "markdown",
   "metadata": {},
   "source": [
    "### 2c. Multi-linear [5 pts]\n",
    "\n",
    "Construct a mulit-linear model without interaction terms predicting the Bush column on the other columns and print out the summary table"
   ]
  },
  {
   "cell_type": "code",
   "execution_count": 11,
   "metadata": {
    "nbgrader": {
     "grade": true,
     "grade_id": "cell-46886bfe03105159",
     "locked": false,
     "points": 5,
     "schema_version": 1,
     "solution": true
    }
   },
   "outputs": [
    {
     "data": {
      "text/html": [
       "<table class=\"simpletable\">\n",
       "<caption>OLS Regression Results</caption>\n",
       "<tr>\n",
       "  <th>Dep. Variable:</th>          <td>Bush</td>       <th>  R-squared:         </th> <td>   0.877</td>\n",
       "</tr>\n",
       "<tr>\n",
       "  <th>Model:</th>                   <td>OLS</td>       <th>  Adj. R-squared:    </th> <td>   0.871</td>\n",
       "</tr>\n",
       "<tr>\n",
       "  <th>Method:</th>             <td>Least Squares</td>  <th>  F-statistic:       </th> <td>   149.5</td>\n",
       "</tr>\n",
       "<tr>\n",
       "  <th>Date:</th>             <td>Fri, 04 Dec 2020</td> <th>  Prob (F-statistic):</th> <td>1.35e-28</td>\n",
       "</tr>\n",
       "<tr>\n",
       "  <th>Time:</th>                 <td>18:36:44</td>     <th>  Log-Likelihood:    </th> <td> -758.33</td>\n",
       "</tr>\n",
       "<tr>\n",
       "  <th>No. Observations:</th>      <td>    67</td>      <th>  AIC:               </th> <td>   1525.</td>\n",
       "</tr>\n",
       "<tr>\n",
       "  <th>Df Residuals:</th>          <td>    63</td>      <th>  BIC:               </th> <td>   1533.</td>\n",
       "</tr>\n",
       "<tr>\n",
       "  <th>Df Model:</th>              <td>     3</td>      <th>                     </th>     <td> </td>   \n",
       "</tr>\n",
       "<tr>\n",
       "  <th>Covariance Type:</th>      <td>nonrobust</td>    <th>                     </th>     <td> </td>   \n",
       "</tr>\n",
       "</table>\n",
       "<table class=\"simpletable\">\n",
       "<tr>\n",
       "      <td></td>         <th>coef</th>     <th>std err</th>      <th>t</th>      <th>P>|t|</th>  <th>[0.025</th>    <th>0.975]</th>  \n",
       "</tr>\n",
       "<tr>\n",
       "  <th>Intercept</th> <td> 8647.6837</td> <td> 3133.545</td> <td>    2.760</td> <td> 0.008</td> <td> 2385.793</td> <td> 1.49e+04</td>\n",
       "</tr>\n",
       "<tr>\n",
       "  <th>Gore</th>      <td>    0.4475</td> <td>    0.071</td> <td>    6.305</td> <td> 0.000</td> <td>    0.306</td> <td>    0.589</td>\n",
       "</tr>\n",
       "<tr>\n",
       "  <th>Nader</th>     <td>   11.8533</td> <td>    2.503</td> <td>    4.735</td> <td> 0.000</td> <td>    6.851</td> <td>   16.855</td>\n",
       "</tr>\n",
       "<tr>\n",
       "  <th>Buchanan</th>  <td>   -7.2033</td> <td>    7.864</td> <td>   -0.916</td> <td> 0.363</td> <td>  -22.917</td> <td>    8.511</td>\n",
       "</tr>\n",
       "</table>\n",
       "<table class=\"simpletable\">\n",
       "<tr>\n",
       "  <th>Omnibus:</th>       <td>20.698</td> <th>  Durbin-Watson:     </th> <td>   1.969</td>\n",
       "</tr>\n",
       "<tr>\n",
       "  <th>Prob(Omnibus):</th> <td> 0.000</td> <th>  Jarque-Bera (JB):  </th> <td> 128.017</td>\n",
       "</tr>\n",
       "<tr>\n",
       "  <th>Skew:</th>          <td> 0.383</td> <th>  Prob(JB):          </th> <td>1.59e-28</td>\n",
       "</tr>\n",
       "<tr>\n",
       "  <th>Kurtosis:</th>      <td> 9.728</td> <th>  Cond. No.          </th> <td>1.08e+05</td>\n",
       "</tr>\n",
       "</table><br/><br/>Warnings:<br/>[1] Standard Errors assume that the covariance matrix of the errors is correctly specified.<br/>[2] The condition number is large, 1.08e+05. This might indicate that there are<br/>strong multicollinearity or other numerical problems."
      ],
      "text/plain": [
       "<class 'statsmodels.iolib.summary.Summary'>\n",
       "\"\"\"\n",
       "                            OLS Regression Results                            \n",
       "==============================================================================\n",
       "Dep. Variable:                   Bush   R-squared:                       0.877\n",
       "Model:                            OLS   Adj. R-squared:                  0.871\n",
       "Method:                 Least Squares   F-statistic:                     149.5\n",
       "Date:                Fri, 04 Dec 2020   Prob (F-statistic):           1.35e-28\n",
       "Time:                        18:36:44   Log-Likelihood:                -758.33\n",
       "No. Observations:                  67   AIC:                             1525.\n",
       "Df Residuals:                      63   BIC:                             1533.\n",
       "Df Model:                           3                                         \n",
       "Covariance Type:            nonrobust                                         \n",
       "==============================================================================\n",
       "                 coef    std err          t      P>|t|      [0.025      0.975]\n",
       "------------------------------------------------------------------------------\n",
       "Intercept   8647.6837   3133.545      2.760      0.008    2385.793    1.49e+04\n",
       "Gore           0.4475      0.071      6.305      0.000       0.306       0.589\n",
       "Nader         11.8533      2.503      4.735      0.000       6.851      16.855\n",
       "Buchanan      -7.2033      7.864     -0.916      0.363     -22.917       8.511\n",
       "==============================================================================\n",
       "Omnibus:                       20.698   Durbin-Watson:                   1.969\n",
       "Prob(Omnibus):                  0.000   Jarque-Bera (JB):              128.017\n",
       "Skew:                           0.383   Prob(JB):                     1.59e-28\n",
       "Kurtosis:                       9.728   Cond. No.                     1.08e+05\n",
       "==============================================================================\n",
       "\n",
       "Warnings:\n",
       "[1] Standard Errors assume that the covariance matrix of the errors is correctly specified.\n",
       "[2] The condition number is large, 1.08e+05. This might indicate that there are\n",
       "strong multicollinearity or other numerical problems.\n",
       "\"\"\""
      ]
     },
     "execution_count": 11,
     "metadata": {},
     "output_type": "execute_result"
    }
   ],
   "source": [
    "# your answer\n",
    "multi_lin = smf.ols(formula='Bush~Gore+Nader+Buchanan', data=votes).fit()\n",
    "multi_lin.summary()"
   ]
  },
  {
   "cell_type": "markdown",
   "metadata": {},
   "source": [
    "### 2d. Multi-linear with interactions [10 pts]\n",
    "\n",
    "Construct a multi-linear model with interactions that are statistically significant at the $p = 0.05$ level. You can start with full interactions and then eliminate interactions are do not meet the $p = 0.05$ threshold."
   ]
  },
  {
   "cell_type": "code",
   "execution_count": 12,
   "metadata": {
    "nbgrader": {
     "grade": true,
     "grade_id": "cell-3f4404dc9eec875f",
     "locked": false,
     "points": 10,
     "schema_version": 1,
     "solution": true
    }
   },
   "outputs": [
    {
     "data": {
      "text/html": [
       "<table class=\"simpletable\">\n",
       "<caption>OLS Regression Results</caption>\n",
       "<tr>\n",
       "  <th>Dep. Variable:</th>          <td>Bush</td>       <th>  R-squared:         </th> <td>   0.924</td>\n",
       "</tr>\n",
       "<tr>\n",
       "  <th>Model:</th>                   <td>OLS</td>       <th>  Adj. R-squared:    </th> <td>   0.921</td>\n",
       "</tr>\n",
       "<tr>\n",
       "  <th>Method:</th>             <td>Least Squares</td>  <th>  F-statistic:       </th> <td>   256.2</td>\n",
       "</tr>\n",
       "<tr>\n",
       "  <th>Date:</th>             <td>Fri, 04 Dec 2020</td> <th>  Prob (F-statistic):</th> <td>3.10e-35</td>\n",
       "</tr>\n",
       "<tr>\n",
       "  <th>Time:</th>                 <td>18:36:44</td>     <th>  Log-Likelihood:    </th> <td> -742.05</td>\n",
       "</tr>\n",
       "<tr>\n",
       "  <th>No. Observations:</th>      <td>    67</td>      <th>  AIC:               </th> <td>   1492.</td>\n",
       "</tr>\n",
       "<tr>\n",
       "  <th>Df Residuals:</th>          <td>    63</td>      <th>  BIC:               </th> <td>   1501.</td>\n",
       "</tr>\n",
       "<tr>\n",
       "  <th>Df Model:</th>              <td>     3</td>      <th>                     </th>     <td> </td>   \n",
       "</tr>\n",
       "<tr>\n",
       "  <th>Covariance Type:</th>      <td>nonrobust</td>    <th>                     </th>     <td> </td>   \n",
       "</tr>\n",
       "</table>\n",
       "<table class=\"simpletable\">\n",
       "<tr>\n",
       "        <td></td>           <th>coef</th>     <th>std err</th>      <th>t</th>      <th>P>|t|</th>  <th>[0.025</th>    <th>0.975]</th>  \n",
       "</tr>\n",
       "<tr>\n",
       "  <th>Intercept</th>     <td>-4242.8792</td> <td> 3084.337</td> <td>   -1.376</td> <td> 0.174</td> <td>-1.04e+04</td> <td> 1920.677</td>\n",
       "</tr>\n",
       "<tr>\n",
       "  <th>Gore</th>          <td>    0.7971</td> <td>    0.038</td> <td>   20.875</td> <td> 0.000</td> <td>    0.721</td> <td>    0.873</td>\n",
       "</tr>\n",
       "<tr>\n",
       "  <th>Buchanan</th>      <td>  115.2876</td> <td>   14.715</td> <td>    7.835</td> <td> 0.000</td> <td>   85.881</td> <td>  144.694</td>\n",
       "</tr>\n",
       "<tr>\n",
       "  <th>Gore:Buchanan</th> <td>   -0.0005</td> <td> 5.69e-05</td> <td>   -8.711</td> <td> 0.000</td> <td>   -0.001</td> <td>   -0.000</td>\n",
       "</tr>\n",
       "</table>\n",
       "<table class=\"simpletable\">\n",
       "<tr>\n",
       "  <th>Omnibus:</th>       <td>19.234</td> <th>  Durbin-Watson:     </th> <td>   2.058</td>\n",
       "</tr>\n",
       "<tr>\n",
       "  <th>Prob(Omnibus):</th> <td> 0.000</td> <th>  Jarque-Bera (JB):  </th> <td> 101.766</td>\n",
       "</tr>\n",
       "<tr>\n",
       "  <th>Skew:</th>          <td>-0.387</td> <th>  Prob(JB):          </th> <td>7.98e-23</td>\n",
       "</tr>\n",
       "<tr>\n",
       "  <th>Kurtosis:</th>      <td> 8.988</td> <th>  Cond. No.          </th> <td>1.97e+08</td>\n",
       "</tr>\n",
       "</table><br/><br/>Warnings:<br/>[1] Standard Errors assume that the covariance matrix of the errors is correctly specified.<br/>[2] The condition number is large, 1.97e+08. This might indicate that there are<br/>strong multicollinearity or other numerical problems."
      ],
      "text/plain": [
       "<class 'statsmodels.iolib.summary.Summary'>\n",
       "\"\"\"\n",
       "                            OLS Regression Results                            \n",
       "==============================================================================\n",
       "Dep. Variable:                   Bush   R-squared:                       0.924\n",
       "Model:                            OLS   Adj. R-squared:                  0.921\n",
       "Method:                 Least Squares   F-statistic:                     256.2\n",
       "Date:                Fri, 04 Dec 2020   Prob (F-statistic):           3.10e-35\n",
       "Time:                        18:36:44   Log-Likelihood:                -742.05\n",
       "No. Observations:                  67   AIC:                             1492.\n",
       "Df Residuals:                      63   BIC:                             1501.\n",
       "Df Model:                           3                                         \n",
       "Covariance Type:            nonrobust                                         \n",
       "=================================================================================\n",
       "                    coef    std err          t      P>|t|      [0.025      0.975]\n",
       "---------------------------------------------------------------------------------\n",
       "Intercept     -4242.8792   3084.337     -1.376      0.174   -1.04e+04    1920.677\n",
       "Gore              0.7971      0.038     20.875      0.000       0.721       0.873\n",
       "Buchanan        115.2876     14.715      7.835      0.000      85.881     144.694\n",
       "Gore:Buchanan    -0.0005   5.69e-05     -8.711      0.000      -0.001      -0.000\n",
       "==============================================================================\n",
       "Omnibus:                       19.234   Durbin-Watson:                   2.058\n",
       "Prob(Omnibus):                  0.000   Jarque-Bera (JB):              101.766\n",
       "Skew:                          -0.387   Prob(JB):                     7.98e-23\n",
       "Kurtosis:                       8.988   Cond. No.                     1.97e+08\n",
       "==============================================================================\n",
       "\n",
       "Warnings:\n",
       "[1] Standard Errors assume that the covariance matrix of the errors is correctly specified.\n",
       "[2] The condition number is large, 1.97e+08. This might indicate that there are\n",
       "strong multicollinearity or other numerical problems.\n",
       "\"\"\""
      ]
     },
     "execution_count": 12,
     "metadata": {},
     "output_type": "execute_result"
    }
   ],
   "source": [
    "# your answer\n",
    "model_interaction = smf.ols(formula='Bush~Gore*Buchanan', data=votes).fit()\n",
    "model_interaction.summary()"
   ]
  },
  {
   "cell_type": "markdown",
   "metadata": {},
   "source": [
    "### 2e. Leverage [5 pts]\n",
    "\n",
    "Plot the *leverage* vs. the square of the residual as described in the diagnostic plots."
   ]
  },
  {
   "cell_type": "code",
   "execution_count": 13,
   "metadata": {
    "nbgrader": {
     "grade": true,
     "grade_id": "cell-70d4a8d628aebb25",
     "locked": false,
     "points": 5,
     "schema_version": 1,
     "solution": true
    }
   },
   "outputs": [
    {
     "data": {
      "image/png": "[encoded data removed]",
      "text/plain": [
       "<Figure size 432x288 with 1 Axes>"
      ]
     },
     "metadata": {},
     "output_type": "display_data"
    }
   ],
   "source": [
    "# your answer\n",
    "sm.graphics.plot_leverage_resid2(model_interaction, alpha=0.05);"
   ]
  },
  {
   "cell_type": "markdown",
   "metadata": {},
   "source": [
    "### 2f. Identify and Clean [5pts]\n",
    "\n",
    "The leverage *vs* residual plot indicates that some rows have high leverage but small residuals and others have high residual. The $R^2$ of the model is determined by the residual. The data is from the disputed 2000 election [where one county](https://en.wikipedia.org/wiki/2000_United_States_presidential_election_recount_in_Florida) caused significant issues.\n",
    "\n",
    "Display the *4* rows for the points indicated having high leverage and/or high residual squared. You will use this to improve the model $R^2$."
   ]
  },
  {
   "cell_type": "code",
   "execution_count": 14,
   "metadata": {
    "nbgrader": {
     "grade": true,
     "grade_id": "cell-0af1acd806ae48e6",
     "locked": false,
     "points": 5,
     "schema_version": 1,
     "solution": true
    }
   },
   "outputs": [
    {
     "data": {
      "text/html": [
       "<div>\n",
       "<style scoped>\n",
       "    .dataframe tbody tr th:only-of-type {\n",
       "        vertical-align: middle;\n",
       "    }\n",
       "\n",
       "    .dataframe tbody tr th {\n",
       "        vertical-align: top;\n",
       "    }\n",
       "\n",
       "    .dataframe thead th {\n",
       "        text-align: right;\n",
       "    }\n",
       "</style>\n",
       "<table border=\"1\" class=\"dataframe\">\n",
       "  <thead>\n",
       "    <tr style=\"text-align: right;\">\n",
       "      <th></th>\n",
       "      <th>county</th>\n",
       "      <th>Bush</th>\n",
       "      <th>Gore</th>\n",
       "      <th>Nader</th>\n",
       "      <th>Buchanan</th>\n",
       "    </tr>\n",
       "  </thead>\n",
       "  <tbody>\n",
       "    <tr>\n",
       "      <th>49</th>\n",
       "      <td>PalmBeach</td>\n",
       "      <td>152951</td>\n",
       "      <td>269732</td>\n",
       "      <td>5565</td>\n",
       "      <td>3411</td>\n",
       "    </tr>\n",
       "    <tr>\n",
       "      <th>5</th>\n",
       "      <td>Broward</td>\n",
       "      <td>177902</td>\n",
       "      <td>387703</td>\n",
       "      <td>7104</td>\n",
       "      <td>795</td>\n",
       "    </tr>\n",
       "    <tr>\n",
       "      <th>42</th>\n",
       "      <td>MiamiDade</td>\n",
       "      <td>289533</td>\n",
       "      <td>328808</td>\n",
       "      <td>5352</td>\n",
       "      <td>560</td>\n",
       "    </tr>\n",
       "  </tbody>\n",
       "</table>\n",
       "</div>"
      ],
      "text/plain": [
       "       county    Bush    Gore  Nader  Buchanan\n",
       "49  PalmBeach  152951  269732   5565      3411\n",
       "5     Broward  177902  387703   7104       795\n",
       "42  MiamiDade  289533  328808   5352       560"
      ]
     },
     "execution_count": 14,
     "metadata": {},
     "output_type": "execute_result"
    }
   ],
   "source": [
    "# your answer\n",
    "votes.iloc[[49,5,42]]"
   ]
  },
  {
   "cell_type": "markdown",
   "metadata": {},
   "source": [
    "### 2g. Final model [5 pts]\n",
    "\n",
    "Develop your final model by dropping *one* of the troublesome data points indicated in the leverage *vs* residual plot and insuring any interactions in your model are still significant at $p=0.05$. Your model should have an $R^2$ great than 0.95."
   ]
  },
  {
   "cell_type": "code",
   "execution_count": 29,
   "metadata": {
    "nbgrader": {
     "grade": true,
     "grade_id": "cell-94c38b6a2456167e",
     "locked": false,
     "points": 5,
     "schema_version": 1,
     "solution": true
    }
   },
   "outputs": [
    {
     "data": {
      "text/html": [
       "<table class=\"simpletable\">\n",
       "<caption>OLS Regression Results</caption>\n",
       "<tr>\n",
       "  <th>Dep. Variable:</th>          <td>Bush</td>       <th>  R-squared:         </th> <td>   0.964</td>\n",
       "</tr>\n",
       "<tr>\n",
       "  <th>Model:</th>                   <td>OLS</td>       <th>  Adj. R-squared:    </th> <td>   0.962</td>\n",
       "</tr>\n",
       "<tr>\n",
       "  <th>Method:</th>             <td>Least Squares</td>  <th>  F-statistic:       </th> <td>   553.4</td>\n",
       "</tr>\n",
       "<tr>\n",
       "  <th>Date:</th>             <td>Fri, 04 Dec 2020</td> <th>  Prob (F-statistic):</th> <td>1.10e-44</td>\n",
       "</tr>\n",
       "<tr>\n",
       "  <th>Time:</th>                 <td>22:05:15</td>     <th>  Log-Likelihood:    </th> <td> -703.98</td>\n",
       "</tr>\n",
       "<tr>\n",
       "  <th>No. Observations:</th>      <td>    66</td>      <th>  AIC:               </th> <td>   1416.</td>\n",
       "</tr>\n",
       "<tr>\n",
       "  <th>Df Residuals:</th>          <td>    62</td>      <th>  BIC:               </th> <td>   1425.</td>\n",
       "</tr>\n",
       "<tr>\n",
       "  <th>Df Model:</th>              <td>     3</td>      <th>                     </th>     <td> </td>   \n",
       "</tr>\n",
       "<tr>\n",
       "  <th>Covariance Type:</th>      <td>nonrobust</td>    <th>                     </th>     <td> </td>   \n",
       "</tr>\n",
       "</table>\n",
       "<table class=\"simpletable\">\n",
       "<tr>\n",
       "        <td></td>           <th>coef</th>     <th>std err</th>      <th>t</th>      <th>P>|t|</th>  <th>[0.025</th>    <th>0.975]</th>  \n",
       "</tr>\n",
       "<tr>\n",
       "  <th>Intercept</th>     <td>-1306.0261</td> <td> 2076.138</td> <td>   -0.629</td> <td> 0.532</td> <td>-5456.167</td> <td> 2844.115</td>\n",
       "</tr>\n",
       "<tr>\n",
       "  <th>Gore</th>          <td>    0.9737</td> <td>    0.032</td> <td>   30.321</td> <td> 0.000</td> <td>    0.910</td> <td>    1.038</td>\n",
       "</tr>\n",
       "<tr>\n",
       "  <th>Buchanan</th>      <td>   63.9575</td> <td>   11.330</td> <td>    5.645</td> <td> 0.000</td> <td>   41.309</td> <td>   86.606</td>\n",
       "</tr>\n",
       "<tr>\n",
       "  <th>Gore:Buchanan</th> <td>   -0.0004</td> <td>  4.1e-05</td> <td>   -8.630</td> <td> 0.000</td> <td>   -0.000</td> <td>   -0.000</td>\n",
       "</tr>\n",
       "</table>\n",
       "<table class=\"simpletable\">\n",
       "<tr>\n",
       "  <th>Omnibus:</th>       <td> 8.011</td> <th>  Durbin-Watson:     </th> <td>   1.892</td>\n",
       "</tr>\n",
       "<tr>\n",
       "  <th>Prob(Omnibus):</th> <td> 0.018</td> <th>  Jarque-Bera (JB):  </th> <td>  16.042</td>\n",
       "</tr>\n",
       "<tr>\n",
       "  <th>Skew:</th>          <td> 0.117</td> <th>  Prob(JB):          </th> <td>0.000328</td>\n",
       "</tr>\n",
       "<tr>\n",
       "  <th>Kurtosis:</th>      <td> 5.404</td> <th>  Cond. No.          </th> <td>1.90e+08</td>\n",
       "</tr>\n",
       "</table><br/><br/>Warnings:<br/>[1] Standard Errors assume that the covariance matrix of the errors is correctly specified.<br/>[2] The condition number is large, 1.9e+08. This might indicate that there are<br/>strong multicollinearity or other numerical problems."
      ],
      "text/plain": [
       "<class 'statsmodels.iolib.summary.Summary'>\n",
       "\"\"\"\n",
       "                            OLS Regression Results                            \n",
       "==============================================================================\n",
       "Dep. Variable:                   Bush   R-squared:                       0.964\n",
       "Model:                            OLS   Adj. R-squared:                  0.962\n",
       "Method:                 Least Squares   F-statistic:                     553.4\n",
       "Date:                Fri, 04 Dec 2020   Prob (F-statistic):           1.10e-44\n",
       "Time:                        22:05:15   Log-Likelihood:                -703.98\n",
       "No. Observations:                  66   AIC:                             1416.\n",
       "Df Residuals:                      62   BIC:                             1425.\n",
       "Df Model:                           3                                         \n",
       "Covariance Type:            nonrobust                                         \n",
       "=================================================================================\n",
       "                    coef    std err          t      P>|t|      [0.025      0.975]\n",
       "---------------------------------------------------------------------------------\n",
       "Intercept     -1306.0261   2076.138     -0.629      0.532   -5456.167    2844.115\n",
       "Gore              0.9737      0.032     30.321      0.000       0.910       1.038\n",
       "Buchanan         63.9575     11.330      5.645      0.000      41.309      86.606\n",
       "Gore:Buchanan    -0.0004    4.1e-05     -8.630      0.000      -0.000      -0.000\n",
       "==============================================================================\n",
       "Omnibus:                        8.011   Durbin-Watson:                   1.892\n",
       "Prob(Omnibus):                  0.018   Jarque-Bera (JB):               16.042\n",
       "Skew:                           0.117   Prob(JB):                     0.000328\n",
       "Kurtosis:                       5.404   Cond. No.                     1.90e+08\n",
       "==============================================================================\n",
       "\n",
       "Warnings:\n",
       "[1] Standard Errors assume that the covariance matrix of the errors is correctly specified.\n",
       "[2] The condition number is large, 1.9e+08. This might indicate that there are\n",
       "strong multicollinearity or other numerical problems.\n",
       "\"\"\""
      ]
     },
     "execution_count": 29,
     "metadata": {},
     "output_type": "execute_result"
    }
   ],
   "source": [
    "# your answer\n",
    "model_final = smf.ols(formula='Bush~Gore*Buchanan', data=votes.drop([5])).fit()\n",
    "model_final.summary()"
   ]
  },
  {
   "cell_type": "markdown",
   "metadata": {},
   "source": [
    "## 3. Body Mass Index Model"
   ]
  },
  {
   "cell_type": "markdown",
   "metadata": {},
   "source": [
    "In this problem, you will first clean a data set and create a model to estimate body fat based on the common BMI measure. Then, you will use the **forward stepwise selection** and **backware stepwise selection** methods to create more accurate predictors for body fat.\n",
    "\n",
    "The body density dataset in file `bodyfat` includes the following 15 variables listed from left to right:\n",
    "* Density : Density determined from underwater weighing\n",
    "* Fat : Percent body fat from Siri’s (1956) equation\n",
    "* Age : Age (years)\n",
    "* Weight : Weight (kg)\n",
    "* Height : Height (cm)\n",
    "* Neck : Neck circumference (cm)\n",
    "* Chest: Chest circumference (cm)\n",
    "* Abdomen : Abdomen circumference (cm)\n",
    "* Hip : Hip circumference (cm)\n",
    "* Thigh : Thigh circumference (cm)\n",
    "* Knee : Knee circumference (cm)\n",
    "* Ankle : Ankle circumference (cm)\n",
    "* Biceps : Biceps (extended) circumference (cm)\n",
    "* Forearm : Forearm circumference (cm)\n",
    "* Wrist : Wrist circumference (cm)\n",
    "\n",
    "The `Density` column is the \"gold standard\" -- it is a measure of body density obtained by dunking people in water and measuring the displacement. The `Fat` column is a prediction using another statistical model. The body mass index (BMI) is [calculated as Kg/m^2](https://en.wikipedia.org/wiki/Body_mass_index) and is used to classify people into different weight categories with a [BMI over 30 being 'obese'](https://www.medicalnewstoday.com/info/obesity). You will find that BMI is a poor predictor of the `Density` information it purports to predict. You will try to find better models using measurements and regression.\n",
    "\n",
    "Unfortunately for us, the dataset we have has imperial units for weight and height, so we will convert those to metric and then calculate the BMI and plot the KDE of the data."
   ]
  },
  {
   "cell_type": "code",
   "execution_count": 16,
   "metadata": {},
   "outputs": [
    {
     "data": {
      "image/png": "[encoded data removed]",
      "text/plain": [
       "<Figure size 432x288 with 1 Axes>"
      ]
     },
     "metadata": {},
     "output_type": "display_data"
    }
   ],
   "source": [
    "fat = pd.read_csv('bodyfat.csv')\n",
    "fat = fat.drop('Unnamed: 0', axis=1)\n",
    "fat.Weight = fat.Weight * 0.453592 # Convert to Kg\n",
    "fat.Height = fat.Height * 0.0254 # convert inches to m\n",
    "fat['BMI'] = fat.Weight / (fat.Height**2)\n",
    "fat.BMI.plot.kde();"
   ]
  },
  {
   "cell_type": "markdown",
   "metadata": {},
   "source": [
    "### 3a. [5 pts]\n",
    "The BMI has at least one outlier since it's unlikely anyone has a BMI of 165, even [Arnold Schwarzenegger](http://www.health.com/health/gallery/0,,20460621,00.html).\n",
    "\n",
    "Form a new table `cfat` (cleaned fat) that removes any rows with a BMI greater than 40 and calculate the regression model predicting the `Density` from the `BMI`. Display the summary of the regression model. You should achieve an $R^2$ of at least 0.53."
   ]
  },
  {
   "cell_type": "code",
   "execution_count": 17,
   "metadata": {
    "nbgrader": {
     "grade": true,
     "grade_id": "cell-6250a219bbe962cd",
     "locked": false,
     "points": 5,
     "schema_version": 1,
     "solution": true
    }
   },
   "outputs": [
    {
     "data": {
      "text/html": [
       "<table class=\"simpletable\">\n",
       "<caption>OLS Regression Results</caption>\n",
       "<tr>\n",
       "  <th>Dep. Variable:</th>         <td>Density</td>     <th>  R-squared:         </th> <td>   0.536</td>\n",
       "</tr>\n",
       "<tr>\n",
       "  <th>Model:</th>                   <td>OLS</td>       <th>  Adj. R-squared:    </th> <td>   0.534</td>\n",
       "</tr>\n",
       "<tr>\n",
       "  <th>Method:</th>             <td>Least Squares</td>  <th>  F-statistic:       </th> <td>   286.2</td>\n",
       "</tr>\n",
       "<tr>\n",
       "  <th>Date:</th>             <td>Fri, 04 Dec 2020</td> <th>  Prob (F-statistic):</th> <td>3.25e-43</td>\n",
       "</tr>\n",
       "<tr>\n",
       "  <th>Time:</th>                 <td>18:36:48</td>     <th>  Log-Likelihood:    </th> <td>  734.17</td>\n",
       "</tr>\n",
       "<tr>\n",
       "  <th>No. Observations:</th>      <td>   250</td>      <th>  AIC:               </th> <td>  -1464.</td>\n",
       "</tr>\n",
       "<tr>\n",
       "  <th>Df Residuals:</th>          <td>   248</td>      <th>  BIC:               </th> <td>  -1457.</td>\n",
       "</tr>\n",
       "<tr>\n",
       "  <th>Df Model:</th>              <td>     1</td>      <th>                     </th>     <td> </td>   \n",
       "</tr>\n",
       "<tr>\n",
       "  <th>Covariance Type:</th>      <td>nonrobust</td>    <th>                     </th>     <td> </td>   \n",
       "</tr>\n",
       "</table>\n",
       "<table class=\"simpletable\">\n",
       "<tr>\n",
       "      <td></td>         <th>coef</th>     <th>std err</th>      <th>t</th>      <th>P>|t|</th>  <th>[0.025</th>    <th>0.975]</th>  \n",
       "</tr>\n",
       "<tr>\n",
       "  <th>Intercept</th> <td>    1.1602</td> <td>    0.006</td> <td>  186.410</td> <td> 0.000</td> <td>    1.148</td> <td>    1.172</td>\n",
       "</tr>\n",
       "<tr>\n",
       "  <th>BMI</th>       <td>   -0.0041</td> <td>    0.000</td> <td>  -16.918</td> <td> 0.000</td> <td>   -0.005</td> <td>   -0.004</td>\n",
       "</tr>\n",
       "</table>\n",
       "<table class=\"simpletable\">\n",
       "<tr>\n",
       "  <th>Omnibus:</th>       <td> 2.262</td> <th>  Durbin-Watson:     </th> <td>   1.576</td>\n",
       "</tr>\n",
       "<tr>\n",
       "  <th>Prob(Omnibus):</th> <td> 0.323</td> <th>  Jarque-Bera (JB):  </th> <td>   2.259</td>\n",
       "</tr>\n",
       "<tr>\n",
       "  <th>Skew:</th>          <td> 0.229</td> <th>  Prob(JB):          </th> <td>   0.323</td>\n",
       "</tr>\n",
       "<tr>\n",
       "  <th>Kurtosis:</th>      <td> 2.916</td> <th>  Cond. No.          </th> <td>    195.</td>\n",
       "</tr>\n",
       "</table><br/><br/>Warnings:<br/>[1] Standard Errors assume that the covariance matrix of the errors is correctly specified."
      ],
      "text/plain": [
       "<class 'statsmodels.iolib.summary.Summary'>\n",
       "\"\"\"\n",
       "                            OLS Regression Results                            \n",
       "==============================================================================\n",
       "Dep. Variable:                Density   R-squared:                       0.536\n",
       "Model:                            OLS   Adj. R-squared:                  0.534\n",
       "Method:                 Least Squares   F-statistic:                     286.2\n",
       "Date:                Fri, 04 Dec 2020   Prob (F-statistic):           3.25e-43\n",
       "Time:                        18:36:48   Log-Likelihood:                 734.17\n",
       "No. Observations:                 250   AIC:                            -1464.\n",
       "Df Residuals:                     248   BIC:                            -1457.\n",
       "Df Model:                           1                                         \n",
       "Covariance Type:            nonrobust                                         \n",
       "==============================================================================\n",
       "                 coef    std err          t      P>|t|      [0.025      0.975]\n",
       "------------------------------------------------------------------------------\n",
       "Intercept      1.1602      0.006    186.410      0.000       1.148       1.172\n",
       "BMI           -0.0041      0.000    -16.918      0.000      -0.005      -0.004\n",
       "==============================================================================\n",
       "Omnibus:                        2.262   Durbin-Watson:                   1.576\n",
       "Prob(Omnibus):                  0.323   Jarque-Bera (JB):                2.259\n",
       "Skew:                           0.229   Prob(JB):                        0.323\n",
       "Kurtosis:                       2.916   Cond. No.                         195.\n",
       "==============================================================================\n",
       "\n",
       "Warnings:\n",
       "[1] Standard Errors assume that the covariance matrix of the errors is correctly specified.\n",
       "\"\"\""
      ]
     },
     "execution_count": 17,
     "metadata": {},
     "output_type": "execute_result"
    }
   ],
   "source": [
    "# your answer\n",
    "badBMI = fat[fat['BMI'] > 40].index\n",
    "fat.drop(badBMI, inplace=True)\n",
    "cfat = fat\n",
    "\n",
    "model_density = smf.ols('Density~BMI', data=cfat).fit()\n",
    "model_density.summary()"
   ]
  },
  {
   "cell_type": "markdown",
   "metadata": {},
   "source": [
    "### 3b. [5 pts]\n",
    "Plot your regression model against the BMI measurement, properly labeling the scatterplot axes and showing the regression line. In subsequent models, you will not be able to plot the Density *vs* your predictors because you will have too many predictors, but it's useful to visually understand the relationship between the BMI predictor and the `Density` because you should find that the regression line goes through the data but there is too much variability in the data to achieve a good $R^2$."
   ]
  },
  {
   "cell_type": "code",
   "execution_count": 18,
   "metadata": {
    "nbgrader": {
     "grade": true,
     "grade_id": "cell-7ca3b6e7f3242bb2",
     "locked": false,
     "points": 5,
     "schema_version": 1,
     "solution": true
    }
   },
   "outputs": [
    {
     "name": "stdout",
     "output_type": "stream",
     "text": [
      "Model is Y =  1.1602322201287334 + -0.004127636875698852 *BMI\n"
     ]
    },
    {
     "data": {
      "image/png": "[encoded data removed]",
      "text/plain": [
       "<Figure size 432x288 with 1 Axes>"
      ]
     },
     "metadata": {},
     "output_type": "display_data"
    }
   ],
   "source": [
    "# your answer\n",
    "beta0,beta1 = model_density.params\n",
    "print('Model is Y = ', beta0, '+', beta1, '*BMI')\n",
    "\n",
    "plt.plot(cfat.BMI, cfat.Density, 'ro');\n",
    "\n",
    "xticks = np.linspace(15,40,10)\n",
    "plt.plot(xticks, beta0 + beta1 * xticks, lw=5)\n",
    "\n",
    "plt.xlabel('BMI')\n",
    "plt.ylabel('Density');"
   ]
  },
  {
   "cell_type": "markdown",
   "metadata": {},
   "source": [
    "## 4. Constructing Better Predictors for Bodyfat [40 pts]"
   ]
  },
  {
   "cell_type": "markdown",
   "metadata": {},
   "source": [
    " The `BMI` model uses easy-to-measure predictors, but has a poor $R^2 \\sim 0.54$. We will use structured subset selection methods from ISLR Chapter 6.1 to derive two better predictors. That chapter covers *best subset*, *forward stepwise* and *backware stepwise* selection. I have implemented the *best subset* selection which searches across all combinations of $1, 2, \\ldots, p$ predictors and selects the best predictor based on the $\\textit{adjusted}~R^2$ metric. This method involved analyzing $2^{13} = 8192$ regression models (programming and computers for the win). The resulting $\\textit{adjusted}~R^2$ plot is shown below:\n",
    " \n",
    " <img src='fat-best-rsqadj.png'>\n",
    " \n",
    "In this plot, `test_fat` and `train_fat` datasets each containing 200 randomly selected samples were derived from the `cfat` dataset using `np.random.choice` over the `cfat.index` and selected using the Pandas `loc` method. Then, following the algorithm of ISLR Algorithm 6.1 *Best Subset Selection*, all $p \\choose k$ models with $k$ predictors were evaluated on the training data and the model returning the best $\\textit{Adjusted}~R^2$ was selected. These models are indicated by the data points for the solid blue line. As the text indicates, other measures (AIC, BIC, $C_p$) would be better than the $\\textit{Adjusted}~R^2$, but we use it becuase because you've already seen the $R^2$ and should have an understanding of what it means.\n",
    "\n",
    "Then, the best models for each $k$ were evaluated for the `test_fat` data. These results are shown as the red dots below the blue line. Note that because the test and train datasets are randomly selected subsets, the results vary from run-to-run and it may that your test data produces better $R^2$ than your training data.\n",
    "\n",
    "This splitting of the data into a test and train set is similar to the *validation set approach* that you can read about in Chapter 5 of ISLR if you choose, but differs in that the two sets may contain duplicate data. The chief reason to use a test and training set is to drill into your skull the limitation of models on unseen data.\n",
    "\n",
    "In the following exercises, you can not use the `Density`, `Fat` or `BMI` columns in your predictive models. You can only use the 13 predictors in the `allowed_factors` list."
   ]
  },
  {
   "cell_type": "code",
   "execution_count": 19,
   "metadata": {},
   "outputs": [],
   "source": [
    "allowed_factors = ['Age', 'Weight', 'Height', 'Neck', 'Chest',\n",
    "       'Abdomen', 'Hip', 'Thigh', 'Knee', 'Ankle', 'Biceps', 'Forearm',\n",
    "       'Wrist']"
   ]
  },
  {
   "cell_type": "markdown",
   "metadata": {},
   "source": [
    "## Forward Stepwise Refinement"
   ]
  },
  {
   "cell_type": "markdown",
   "metadata": {},
   "source": [
    "You will manuall perform the steps of the *forward stepwise selection* method for four parameters. You will do this following Algorithm 6.2 from ISLR. For $k = 1\\ldots 4$:\n",
    "* Set up a regression model with $k$ factors that involves the fixed predictors from the previous step $k-1$\n",
    "* Try all $p$ predictors in the new $k$th position\n",
    "* Select the best parameter using $\\textit{Adjusted}-R^2$ (e.g. `model.rsquared_adj`) given your training data\n",
    "* Fix the new parameter and continue the process for $k+1$\n",
    "\n",
    "Then, you will construct a plot similar to the one above, plotting the $\\textit{Adjusted}-R^2$ for each of your $k$ steps and plotting the $\\textit{Adjusted}-R^2$ from the test set using that model."
   ]
  },
  {
   "cell_type": "markdown",
   "metadata": {},
   "source": [
    "### 4a. [5 pts]\n",
    "First, construct your training and test sets. These should each contain 200 (possibly duplicated) samples from your `cfat` dataset:"
   ]
  },
  {
   "cell_type": "code",
   "execution_count": 28,
   "metadata": {
    "nbgrader": {
     "grade": true,
     "grade_id": "cell-e4838ff8bbd057fb",
     "locked": false,
     "points": 5,
     "schema_version": 1,
     "solution": true
    }
   },
   "outputs": [
    {
     "name": "stdout",
     "output_type": "stream",
     "text": [
      "(200, 16)\n",
      "(200, 16)\n"
     ]
    }
   ],
   "source": [
    "# your answer\n",
    "testFatIndex =np.random.choice(cfat.index,200)\n",
    "trainFatIndex = np.random.choice(cfat.index,200)\n",
    "test_data = cfat.loc[testFatIndex]\n",
    "train_data = cfat.loc[trainFatIndex]\n",
    "# print(train_data)\n",
    "# print(test_data)\n",
    "\n",
    "print(test_data.shape)\n",
    "print(test_data.shape)"
   ]
  },
  {
   "cell_type": "code",
   "execution_count": 21,
   "metadata": {},
   "outputs": [
    {
     "name": "stdout",
     "output_type": "stream",
     "text": [
      "The max R2 for test data:  0.6619462477234165\n",
      "which is the predictor:  Biceps\n",
      "Index R2:  10 \n",
      "\n"
     ]
    }
   ],
   "source": [
    "R2 = []\n",
    "#loops through allowed factors and logging thier adjusted rsquared values for test data.\n",
    "for i in range(len(allowed_factors)):\n",
    "    maxx = 0\n",
    "    test_model = smf.ols(formula='Density~Abdomen+Weight+Wrist+Hip+{}'.format(allowed_factors[i]), data=test_data).fit()\n",
    "    RSS = test_model.rsquared_adj\n",
    "    R2.append(RSS)\n",
    "\n",
    "# RT2=[]\n",
    "# #loops through allowed factors and logging thier adjusted rsquared values for training data.\n",
    "# for i in range(len(allowed_factors)):\n",
    "#     maxx = 0\n",
    "#     train_model = smf.ols(formula='Density~Abdomen+Weight+Wrist+{}'.format(allowed_factors[i]), data=train_data).fit()\n",
    "#     RSST = train_model.rsquared_adj\n",
    "#     RT2.append(RSST)\n",
    "    \n",
    "for i in range(len(R2)):\n",
    "    if R2[i] == max(R2):\n",
    "        print(\"The max R2 for test data: \", R2[i])\n",
    "        print(\"which is the predictor: \", allowed_factors[i])\n",
    "        print(\"Index R2: \", i, \"\\n\")\n",
    "        \n",
    "# for j in range(len(RT2)):\n",
    "#     if max(RT2) == RT2[j]:\n",
    "#         print(\"The max RT2 for training data: \", RT2[j])\n",
    "#         print(\"which is the predictor: \", allowed_factors[j])\n",
    "#         print(\"Index RTS: \", j)"
   ]
  },
  {
   "cell_type": "markdown",
   "metadata": {},
   "source": [
    "### 4b. Conduct the algorithm above for $k=1$, leaving your best solution as the answer [5 pts]"
   ]
  },
  {
   "cell_type": "code",
   "execution_count": 22,
   "metadata": {
    "nbgrader": {
     "grade": true,
     "grade_id": "cell-c542ad862ad3b1f5",
     "locked": false,
     "points": 5,
     "schema_version": 1,
     "solution": true
    }
   },
   "outputs": [
    {
     "name": "stdout",
     "output_type": "stream",
     "text": [
      "Testing Model                             OLS Regression Results                            \n",
      "==============================================================================\n",
      "Dep. Variable:                Density   R-squared:                       0.527\n",
      "Model:                            OLS   Adj. R-squared:                  0.525\n",
      "Method:                 Least Squares   F-statistic:                     221.0\n",
      "Date:                Fri, 04 Dec 2020   Prob (F-statistic):           4.61e-34\n",
      "Time:                        18:36:52   Log-Likelihood:                 583.65\n",
      "No. Observations:                 200   AIC:                            -1163.\n",
      "Df Residuals:                     198   BIC:                            -1157.\n",
      "Df Model:                           1                                         \n",
      "Covariance Type:            nonrobust                                         \n",
      "==============================================================================\n",
      "                 coef    std err          t      P>|t|      [0.025      0.975]\n",
      "------------------------------------------------------------------------------\n",
      "Intercept      1.1856      0.009    136.206      0.000       1.168       1.203\n",
      "Abdomen       -0.0014   9.38e-05    -14.865      0.000      -0.002      -0.001\n",
      "==============================================================================\n",
      "Omnibus:                       50.109   Durbin-Watson:                   2.117\n",
      "Prob(Omnibus):                  0.000   Jarque-Bera (JB):              127.681\n",
      "Skew:                           1.084   Prob(JB):                     1.88e-28\n",
      "Kurtosis:                       6.259   Cond. No.                         869.\n",
      "==============================================================================\n",
      "\n",
      "Warnings:\n",
      "[1] Standard Errors assume that the covariance matrix of the errors is correctly specified.\n",
      "\n",
      "\n",
      "The test_model adjusted R-Squared is:  0.5250256280077072 \n",
      "\n"
     ]
    }
   ],
   "source": [
    "# your answer\n",
    "test_model1 = smf.ols(formula='Density~Abdomen', data=test_data).fit()\n",
    "print(\"Testing Model\", test_model1.summary());\n",
    "print(\"\\n\\nThe test_model adjusted R-Squared is: \", test_model1.rsquared_adj, \"\\n\")\n",
    "\n",
    "#Do same for training data\n",
    "# print(\"Training Model\",train_model1.summary())\n",
    "# print(\"\\n\\nThe train_model adjusted R-Squared is: \",train_model1.rsquared_adj)\n",
    "#train_model1 = smf.ols(formula='Density~Abdomen', data=train_data).fit()"
   ]
  },
  {
   "cell_type": "markdown",
   "metadata": {},
   "source": [
    "### 4c. Conduct the algorithm above for $k=2$, leaving your best solution as the answer [5 pts]"
   ]
  },
  {
   "cell_type": "code",
   "execution_count": 23,
   "metadata": {
    "nbgrader": {
     "grade": true,
     "grade_id": "cell-dc5601cbc7971607",
     "locked": false,
     "points": 5,
     "schema_version": 1,
     "solution": true
    }
   },
   "outputs": [
    {
     "name": "stdout",
     "output_type": "stream",
     "text": [
      "Testing Model                             OLS Regression Results                            \n",
      "==============================================================================\n",
      "Dep. Variable:                Density   R-squared:                       0.603\n",
      "Model:                            OLS   Adj. R-squared:                  0.599\n",
      "Method:                 Least Squares   F-statistic:                     149.6\n",
      "Date:                Fri, 04 Dec 2020   Prob (F-statistic):           3.02e-40\n",
      "Time:                        18:36:52   Log-Likelihood:                 601.08\n",
      "No. Observations:                 200   AIC:                            -1196.\n",
      "Df Residuals:                     197   BIC:                            -1186.\n",
      "Df Model:                           2                                         \n",
      "Covariance Type:            nonrobust                                         \n",
      "==============================================================================\n",
      "                 coef    std err          t      P>|t|      [0.025      0.975]\n",
      "------------------------------------------------------------------------------\n",
      "Intercept      1.2001      0.008    143.917      0.000       1.184       1.217\n",
      "Abdomen       -0.0023      0.000    -13.687      0.000      -0.003      -0.002\n",
      "Weight         0.0008      0.000      6.125      0.000       0.001       0.001\n",
      "==============================================================================\n",
      "Omnibus:                       28.806   Durbin-Watson:                   2.203\n",
      "Prob(Omnibus):                  0.000   Jarque-Bera (JB):               42.193\n",
      "Skew:                           0.835   Prob(JB):                     6.89e-10\n",
      "Kurtosis:                       4.508   Cond. No.                     1.21e+03\n",
      "==============================================================================\n",
      "\n",
      "Warnings:\n",
      "[1] Standard Errors assume that the covariance matrix of the errors is correctly specified.\n",
      "[2] The condition number is large, 1.21e+03. This might indicate that there are\n",
      "strong multicollinearity or other numerical problems.\n",
      "\n",
      "\n",
      "The test_model adjusted R-Squared is:  0.5989735217725068 \n",
      "\n"
     ]
    }
   ],
   "source": [
    "# your answer\n",
    "# your answer\n",
    "\n",
    "test_model2 = smf.ols(formula='Density~Abdomen+Weight', data=test_data).fit()\n",
    "print(\"Testing Model\", test_model2.summary());\n",
    "print(\"\\n\\nThe test_model adjusted R-Squared is: \", test_model2.rsquared_adj, \"\\n\")\n",
    "\n",
    "#Do same for Training Data \n",
    "# train_model2 = smf.ols(formula='Density~Abdomen+Weight', data=train_data).fit()\n",
    "# print(\"Training Model\", train_model2.summary())\n",
    "# print(\"\\n\\nThe train_model adjusted R-Squared is: \",train_model2.rsquared_adj)\n"
   ]
  },
  {
   "cell_type": "markdown",
   "metadata": {},
   "source": [
    "### 4d. Conduct the algorithm above for $k=3$, leaving your best solution as the answer [5 pts]"
   ]
  },
  {
   "cell_type": "code",
   "execution_count": 24,
   "metadata": {
    "nbgrader": {
     "grade": true,
     "grade_id": "cell-8434e34c17ce2770",
     "locked": false,
     "points": 5,
     "schema_version": 1,
     "solution": true
    }
   },
   "outputs": [
    {
     "name": "stdout",
     "output_type": "stream",
     "text": [
      "Testing Model                             OLS Regression Results                            \n",
      "==============================================================================\n",
      "Dep. Variable:                Density   R-squared:                       0.646\n",
      "Model:                            OLS   Adj. R-squared:                  0.640\n",
      "Method:                 Least Squares   F-statistic:                     119.1\n",
      "Date:                Fri, 04 Dec 2020   Prob (F-statistic):           6.26e-44\n",
      "Time:                        18:36:52   Log-Likelihood:                 612.46\n",
      "No. Observations:                 200   AIC:                            -1217.\n",
      "Df Residuals:                     196   BIC:                            -1204.\n",
      "Df Model:                           3                                         \n",
      "Covariance Type:            nonrobust                                         \n",
      "==============================================================================\n",
      "                 coef    std err          t      P>|t|      [0.025      0.975]\n",
      "------------------------------------------------------------------------------\n",
      "Intercept      1.1046      0.021     52.158      0.000       1.063       1.146\n",
      "Abdomen       -0.0022      0.000    -13.899      0.000      -0.002      -0.002\n",
      "Weight         0.0004      0.000      2.746      0.007       0.000       0.001\n",
      "Wrist          0.0066      0.001      4.859      0.000       0.004       0.009\n",
      "==============================================================================\n",
      "Omnibus:                       16.359   Durbin-Watson:                   2.109\n",
      "Prob(Omnibus):                  0.000   Jarque-Bera (JB):               18.138\n",
      "Skew:                           0.655   Prob(JB):                     0.000115\n",
      "Kurtosis:                       3.677   Cond. No.                     3.29e+03\n",
      "==============================================================================\n",
      "\n",
      "Warnings:\n",
      "[1] Standard Errors assume that the covariance matrix of the errors is correctly specified.\n",
      "[2] The condition number is large, 3.29e+03. This might indicate that there are\n",
      "strong multicollinearity or other numerical problems.\n",
      "\n",
      "\n",
      "The test_model adjusted R-Squared is:  0.6402607995895256 \n",
      "\n"
     ]
    }
   ],
   "source": [
    "# your answer\n",
    "test_model3 = smf.ols(formula='Density~Abdomen+Weight+Wrist', data=test_data).fit()\n",
    "print(\"Testing Model\", test_model3.summary());\n",
    "print(\"\\n\\nThe test_model adjusted R-Squared is: \", test_model3.rsquared_adj, \"\\n\")\n",
    "\n",
    "# train_model3 = smf.ols(formula='Density~Abdomen+Height+Wrist', data=train_data).fit()\n",
    "# print(\"Training Model\", train_model3.summary())\n",
    "# print(\"\\n\\nThe train_model adjusted R-Squared is: \",train_model3.rsquared_adj)"
   ]
  },
  {
   "cell_type": "markdown",
   "metadata": {},
   "source": [
    "### 4e. Conduct the algorithm above for $k=4$, leaving your best solution as the answer [5 pts]"
   ]
  },
  {
   "cell_type": "code",
   "execution_count": 25,
   "metadata": {
    "nbgrader": {
     "grade": true,
     "grade_id": "cell-40ee9bbaf801529a",
     "locked": false,
     "points": 5,
     "schema_version": 1,
     "solution": true
    }
   },
   "outputs": [
    {
     "name": "stdout",
     "output_type": "stream",
     "text": [
      "Testing Model                             OLS Regression Results                            \n",
      "==============================================================================\n",
      "Dep. Variable:                Density   R-squared:                       0.646\n",
      "Model:                            OLS   Adj. R-squared:                  0.639\n",
      "Method:                 Least Squares   F-statistic:                     88.91\n",
      "Date:                Fri, 04 Dec 2020   Prob (F-statistic):           7.09e-43\n",
      "Time:                        18:36:52   Log-Likelihood:                 612.51\n",
      "No. Observations:                 200   AIC:                            -1215.\n",
      "Df Residuals:                     195   BIC:                            -1199.\n",
      "Df Model:                           4                                         \n",
      "Covariance Type:            nonrobust                                         \n",
      "==============================================================================\n",
      "                 coef    std err          t      P>|t|      [0.025      0.975]\n",
      "------------------------------------------------------------------------------\n",
      "Intercept      1.1135      0.036     31.203      0.000       1.043       1.184\n",
      "Abdomen       -0.0022      0.000    -12.548      0.000      -0.002      -0.002\n",
      "Weight         0.0005      0.000      1.963      0.051   -2.26e-06       0.001\n",
      "Wrist          0.0065      0.001      4.577      0.000       0.004       0.009\n",
      "Hip           -0.0001      0.000     -0.312      0.756      -0.001       0.001\n",
      "==============================================================================\n",
      "Omnibus:                       15.979   Durbin-Watson:                   2.105\n",
      "Prob(Omnibus):                  0.000   Jarque-Bera (JB):               17.595\n",
      "Skew:                           0.649   Prob(JB):                     0.000151\n",
      "Kurtosis:                       3.654   Cond. No.                     7.07e+03\n",
      "==============================================================================\n",
      "\n",
      "Warnings:\n",
      "[1] Standard Errors assume that the covariance matrix of the errors is correctly specified.\n",
      "[2] The condition number is large, 7.07e+03. This might indicate that there are\n",
      "strong multicollinearity or other numerical problems.\n",
      "\n",
      "\n",
      "The test_model adjusted R-Squared is:  0.6385958744087179 \n",
      "\n"
     ]
    }
   ],
   "source": [
    "# your answer\n",
    "\n",
    "test_model4 = smf.ols(formula='Density~Abdomen+Weight+Wrist+Hip', data=test_data).fit()\n",
    "print(\"Testing Model\", test_model4.summary());\n",
    "print(\"\\n\\nThe test_model adjusted R-Squared is: \", test_model4.rsquared_adj, \"\\n\")\n",
    "\n",
    "# train_model4 = smf.ols(formula='Density~Abdomen+Height+Wrist+Ankle', data=train_data).fit()\n",
    "# print(\"Training Model\", train_model4.summary())\n",
    "# print(\"\\n\\nThe train_model adjusted R-Squared is: \",train_model4.rsquared_adj)\n"
   ]
  },
  {
   "cell_type": "markdown",
   "metadata": {},
   "source": [
    "### 4f. Conduct the algorithm above for $k=5$, leaving your best solution as the answer [5 pts]"
   ]
  },
  {
   "cell_type": "code",
   "execution_count": 26,
   "metadata": {
    "nbgrader": {
     "grade": true,
     "grade_id": "cell-ac9188e2d358271a",
     "locked": false,
     "points": 5,
     "schema_version": 1,
     "solution": true
    }
   },
   "outputs": [
    {
     "name": "stdout",
     "output_type": "stream",
     "text": [
      "Testing Model                             OLS Regression Results                            \n",
      "==============================================================================\n",
      "Dep. Variable:                Density   R-squared:                       0.653\n",
      "Model:                            OLS   Adj. R-squared:                  0.644\n",
      "Method:                 Least Squares   F-statistic:                     73.05\n",
      "Date:                Fri, 04 Dec 2020   Prob (F-statistic):           9.79e-43\n",
      "Time:                        18:36:53   Log-Likelihood:                 614.57\n",
      "No. Observations:                 200   AIC:                            -1217.\n",
      "Df Residuals:                     194   BIC:                            -1197.\n",
      "Df Model:                           5                                         \n",
      "Covariance Type:            nonrobust                                         \n",
      "==============================================================================\n",
      "                 coef    std err          t      P>|t|      [0.025      0.975]\n",
      "------------------------------------------------------------------------------\n",
      "Intercept      1.0865      0.038     28.688      0.000       1.012       1.161\n",
      "Abdomen       -0.0024      0.000    -11.140      0.000      -0.003      -0.002\n",
      "Weight         0.0002      0.000      0.926      0.355      -0.000       0.001\n",
      "Wrist          0.0063      0.001      4.443      0.000       0.003       0.009\n",
      "Hip         2.593e-05      0.000      0.060      0.952      -0.001       0.001\n",
      "Chest          0.0006      0.000      2.012      0.046    1.14e-05       0.001\n",
      "==============================================================================\n",
      "Omnibus:                       13.462   Durbin-Watson:                   2.105\n",
      "Prob(Omnibus):                  0.001   Jarque-Bera (JB):               14.200\n",
      "Skew:                           0.602   Prob(JB):                     0.000825\n",
      "Kurtosis:                       3.503   Cond. No.                     8.93e+03\n",
      "==============================================================================\n",
      "\n",
      "Warnings:\n",
      "[1] Standard Errors assume that the covariance matrix of the errors is correctly specified.\n",
      "[2] The condition number is large, 8.93e+03. This might indicate that there are\n",
      "strong multicollinearity or other numerical problems.\n",
      "\n",
      "\n",
      "The test_model adjusted R-Squared is:  0.6441569751421152 \n",
      "\n"
     ]
    }
   ],
   "source": [
    "# your answer\n",
    "test_model5 = smf.ols(formula='Density~Abdomen+Weight+Wrist+Hip+Chest', data=test_data).fit()\n",
    "print(\"Testing Model\", test_model5.summary());\n",
    "print(\"\\n\\nThe test_model adjusted R-Squared is: \", test_model5.rsquared_adj, \"\\n\")\n",
    "\n",
    "\n",
    "#train_model5 = smf.ols(formula='Density~Abdomen+Height+Wrist+Ankle+Forearm', data=train_data).fit()\n",
    "# print(\"Training Model\", train_model5.summary())\n",
    "# print(\"\\n\\nThe train_model adjusted R-Squared is: \",train_model5.rsquared_adj)\n"
   ]
  },
  {
   "cell_type": "markdown",
   "metadata": {},
   "source": [
    "### 4g. Plot [5 pts]\n",
    "\n",
    "Plot your resulting $\\textit{adjusted}~R^2$ *vs* number of predictors and overlay the $\\textit{adjusted}~R^2$ for the test data."
   ]
  },
  {
   "cell_type": "code",
   "execution_count": 27,
   "metadata": {
    "nbgrader": {
     "grade": true,
     "grade_id": "cell-e20802d76918cedc",
     "locked": false,
     "points": 5,
     "schema_version": 1,
     "solution": true
    }
   },
   "outputs": [],
   "source": [
    "# your answer"
   ]
  },
  {
   "cell_type": "markdown",
   "metadata": {},
   "source": [
    "### 4h. Discussion [5 pts]\n",
    "\n",
    "The BMI model has the benefit being simple (two measurements, height and wright). Looking at your resulting regression model, how many parameters would you suggest to use for your enhanced BMI model? Justify your answer using your models."
   ]
  },
  {
   "cell_type": "raw",
   "metadata": {
    "nbgrader": {
     "grade": true,
     "grade_id": "cell-9bf6a19839d30e80",
     "locked": false,
     "points": 5,
     "schema_version": 1,
     "solution": true
    }
   },
   "source": [
    "Looking at my data, there were swift jumps in the R-squared values from adding in Abdomen, Weight, and Wrist into the linear regression model. The R-sqaured values start to slightly plateau after the 3rd predictor. holding steady around .74 to .75. The R-squares were still rising slightly for each predictor I was adding into the model. So with more predictors, the model became slightly better. I would say adding in 3 predictors would be ok for the enhanced BMI model.\n",
    "\n",
    "\n",
    "After completing this assignment, I decided to play around with the data and i notice when reseting the test and training data, the overall predictors chosen that gave the better Rsqaured values started to change. Adbomen to start was always choosen as the best predictor for the first round. After that, the order in which the predictors came out were all different. My thoughts were that every time we run this test, the data changes because of the random.choice() function. So because of that, the some data points could be left out of the previous test. Which could alter the overall outputs of each stepwise regression model. I found that to be strange. "
   ]
  },
  {
   "cell_type": "code",
   "execution_count": null,
   "metadata": {},
   "outputs": [],
   "source": []
  }
 ],
 "metadata": {
  "celltoolbar": "Create Assignment",
  "kernel_info": {
   "name": "python3"
  },
  "kernelspec": {
   "display_name": "Python 3",
   "language": "python",
   "name": "python3"
  },
  "language_info": {
   "codemirror_mode": {
    "name": "ipython",
    "version": 3
   },
   "file_extension": ".py",
   "mimetype": "text/x-python",
   "name": "python",
   "nbconvert_exporter": "python",
   "pygments_lexer": "ipython3",
   "version": "3.8.5"
  },
  "nteract": {
   "version": "0.14.5"
  }
 },
 "nbformat": 4,
 "nbformat_minor": 4
}

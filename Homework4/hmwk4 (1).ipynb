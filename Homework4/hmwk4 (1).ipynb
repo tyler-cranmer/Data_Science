{
 "cells": [
  {
   "cell_type": "markdown",
   "metadata": {},
   "source": [
    "# CSCI 3022 Homework\n",
    "<figure>\n",
    "  <IMG SRC=\"https://www.colorado.edu/cs/profiles/express/themes/cuspirit/logo.png\" WIDTH=50 ALIGN=\"right\">\n",
    "</figure>\n",
    "\n",
    "Before you turn this problem in, make sure everything runs as expected. First, **restart the kernel** (in the menubar, select Kernel$\\rightarrow$Restart) and then **run all cells** (in the menubar, select Cell$\\rightarrow$Run All).\n",
    "\n",
    "Make sure you fill in any place that says `YOUR CODE HERE` or \"YOUR ANSWER HERE\", as well as your name and collaborators below. "
   ]
  },
  {
   "cell_type": "code",
   "execution_count": 60,
   "metadata": {},
   "outputs": [],
   "source": [
    "NAME = \"Tyler Cranmer\"\n",
    "COLLABORATORS = \"\""
   ]
  },
  {
   "cell_type": "markdown",
   "metadata": {},
   "source": [
    "If you referenced any web sites or solutions not of your own creation, list those references here:\n",
    "\n",
    "* List any external references or resources here"
   ]
  },
  {
   "cell_type": "markdown",
   "metadata": {},
   "source": [
    "# Homework 4"
   ]
  },
  {
   "cell_type": "markdown",
   "metadata": {},
   "source": [
    "In this homework, you'll practice material from the Proability portion of the course, covering\n",
    "\n",
    "* Joint distributions, covariance and correlation"
   ]
  },
  {
   "cell_type": "code",
   "execution_count": 61,
   "metadata": {},
   "outputs": [],
   "source": [
    "%matplotlib inline\n",
    "import pandas as pd\n",
    "import matplotlib.pyplot as plt\n",
    "import numpy as np\n",
    "import scipy\n",
    "import scipy.stats as stats\n",
    "import math"
   ]
  },
  {
   "cell_type": "markdown",
   "metadata": {},
   "source": [
    "# Problem #1 - Joint Random Variables"
   ]
  },
  {
   "cell_type": "markdown",
   "metadata": {},
   "source": [
    "In this problem we will construction a *joint distribution* from the titantic data that attempts to capture the probability of survival as functions of the passenger class and sex of the passengers."
   ]
  },
  {
   "cell_type": "code",
   "execution_count": 84,
   "metadata": {},
   "outputs": [],
   "source": [
    "ti = pd.read_csv('https://raw.githubusercontent.com/jorisvandenbossche/pandas-tutorial/master/data/titanic.csv')"
   ]
  },
  {
   "cell_type": "code",
   "execution_count": 85,
   "metadata": {},
   "outputs": [
    {
     "data": {
      "text/html": [
       "<div>\n",
       "<style scoped>\n",
       "    .dataframe tbody tr th:only-of-type {\n",
       "        vertical-align: middle;\n",
       "    }\n",
       "\n",
       "    .dataframe tbody tr th {\n",
       "        vertical-align: top;\n",
       "    }\n",
       "\n",
       "    .dataframe thead th {\n",
       "        text-align: right;\n",
       "    }\n",
       "</style>\n",
       "<table border=\"1\" class=\"dataframe\">\n",
       "  <thead>\n",
       "    <tr style=\"text-align: right;\">\n",
       "      <th></th>\n",
       "      <th>PassengerId</th>\n",
       "      <th>Survived</th>\n",
       "      <th>Pclass</th>\n",
       "      <th>Name</th>\n",
       "      <th>Sex</th>\n",
       "      <th>Age</th>\n",
       "      <th>SibSp</th>\n",
       "      <th>Parch</th>\n",
       "      <th>Ticket</th>\n",
       "      <th>Fare</th>\n",
       "      <th>Cabin</th>\n",
       "      <th>Embarked</th>\n",
       "    </tr>\n",
       "  </thead>\n",
       "  <tbody>\n",
       "    <tr>\n",
       "      <th>0</th>\n",
       "      <td>1</td>\n",
       "      <td>0</td>\n",
       "      <td>3</td>\n",
       "      <td>Braund, Mr. Owen Harris</td>\n",
       "      <td>male</td>\n",
       "      <td>22.0</td>\n",
       "      <td>1</td>\n",
       "      <td>0</td>\n",
       "      <td>A/5 21171</td>\n",
       "      <td>7.2500</td>\n",
       "      <td>NaN</td>\n",
       "      <td>S</td>\n",
       "    </tr>\n",
       "    <tr>\n",
       "      <th>1</th>\n",
       "      <td>2</td>\n",
       "      <td>1</td>\n",
       "      <td>1</td>\n",
       "      <td>Cumings, Mrs. John Bradley (Florence Briggs Th...</td>\n",
       "      <td>female</td>\n",
       "      <td>38.0</td>\n",
       "      <td>1</td>\n",
       "      <td>0</td>\n",
       "      <td>PC 17599</td>\n",
       "      <td>71.2833</td>\n",
       "      <td>C85</td>\n",
       "      <td>C</td>\n",
       "    </tr>\n",
       "    <tr>\n",
       "      <th>2</th>\n",
       "      <td>3</td>\n",
       "      <td>1</td>\n",
       "      <td>3</td>\n",
       "      <td>Heikkinen, Miss. Laina</td>\n",
       "      <td>female</td>\n",
       "      <td>26.0</td>\n",
       "      <td>0</td>\n",
       "      <td>0</td>\n",
       "      <td>STON/O2. 3101282</td>\n",
       "      <td>7.9250</td>\n",
       "      <td>NaN</td>\n",
       "      <td>S</td>\n",
       "    </tr>\n",
       "    <tr>\n",
       "      <th>3</th>\n",
       "      <td>4</td>\n",
       "      <td>1</td>\n",
       "      <td>1</td>\n",
       "      <td>Futrelle, Mrs. Jacques Heath (Lily May Peel)</td>\n",
       "      <td>female</td>\n",
       "      <td>35.0</td>\n",
       "      <td>1</td>\n",
       "      <td>0</td>\n",
       "      <td>113803</td>\n",
       "      <td>53.1000</td>\n",
       "      <td>C123</td>\n",
       "      <td>S</td>\n",
       "    </tr>\n",
       "    <tr>\n",
       "      <th>4</th>\n",
       "      <td>5</td>\n",
       "      <td>0</td>\n",
       "      <td>3</td>\n",
       "      <td>Allen, Mr. William Henry</td>\n",
       "      <td>male</td>\n",
       "      <td>35.0</td>\n",
       "      <td>0</td>\n",
       "      <td>0</td>\n",
       "      <td>373450</td>\n",
       "      <td>8.0500</td>\n",
       "      <td>NaN</td>\n",
       "      <td>S</td>\n",
       "    </tr>\n",
       "  </tbody>\n",
       "</table>\n",
       "</div>"
      ],
      "text/plain": [
       "   PassengerId  Survived  Pclass  \\\n",
       "0            1         0       3   \n",
       "1            2         1       1   \n",
       "2            3         1       3   \n",
       "3            4         1       1   \n",
       "4            5         0       3   \n",
       "\n",
       "                                                Name     Sex   Age  SibSp  \\\n",
       "0                            Braund, Mr. Owen Harris    male  22.0      1   \n",
       "1  Cumings, Mrs. John Bradley (Florence Briggs Th...  female  38.0      1   \n",
       "2                             Heikkinen, Miss. Laina  female  26.0      0   \n",
       "3       Futrelle, Mrs. Jacques Heath (Lily May Peel)  female  35.0      1   \n",
       "4                           Allen, Mr. William Henry    male  35.0      0   \n",
       "\n",
       "   Parch            Ticket     Fare Cabin Embarked  \n",
       "0      0         A/5 21171   7.2500   NaN        S  \n",
       "1      0          PC 17599  71.2833   C85        C  \n",
       "2      0  STON/O2. 3101282   7.9250   NaN        S  \n",
       "3      0            113803  53.1000  C123        S  \n",
       "4      0            373450   8.0500   NaN        S  "
      ]
     },
     "execution_count": 85,
     "metadata": {},
     "output_type": "execute_result"
    }
   ],
   "source": [
    "ti.head()"
   ]
  },
  {
   "cell_type": "markdown",
   "metadata": {},
   "source": [
    "## (1a)\n",
    "\n",
    "You should produce a Pandas DataFrame named `ti_jrv` (\"titanic joint randon variable) similar to the fragment shown below:\n",
    "\n",
    "| Index\t| Pclass |\tSex\t| Prob |\n",
    "|-----|-------|------|-------- |\n",
    "|0 |\t1 |\t1\t| 0.131579 |\n",
    "|1 |\t2 |\t2\t| 0.204678 |\n",
    "\n",
    "Your table should include the product of passenger class (1,2,3) and Sex (1, 2). The rows can be in any order.\n",
    "\n",
    "The first row in this example can be interpreted that 13.15% of those survived are male passengers in the first class while 20.5% of the survived are female passengers in the second class. \n",
    "\n",
    "Your table will contain a total of 6 rows. You can either construct the table in columns and then create the DataFrame or create an empty DataFrame and then [add rows to the frame](https://stackoverflow.com/questions/17091769/python-pandas-fill-a-dataframe-row-by-row) using `loc` or a method of your choosing."
   ]
  },
  {
   "cell_type": "code",
   "execution_count": 212,
   "metadata": {
    "deletable": false,
    "nbgrader": {
     "checksum": "107e5033c74390567ee7fc6044ba9cd0",
     "grade": true,
     "grade_id": "cell-c1b1dc5c0894422d",
     "locked": false,
     "points": 5,
     "schema_version": 1,
     "solution": true
    }
   },
   "outputs": [
    {
     "data": {
      "text/html": [
       "<div>\n",
       "<style scoped>\n",
       "    .dataframe tbody tr th:only-of-type {\n",
       "        vertical-align: middle;\n",
       "    }\n",
       "\n",
       "    .dataframe tbody tr th {\n",
       "        vertical-align: top;\n",
       "    }\n",
       "\n",
       "    .dataframe thead th {\n",
       "        text-align: right;\n",
       "    }\n",
       "</style>\n",
       "<table border=\"1\" class=\"dataframe\">\n",
       "  <thead>\n",
       "    <tr style=\"text-align: right;\">\n",
       "      <th></th>\n",
       "      <th>Pclass</th>\n",
       "      <th>Sex</th>\n",
       "      <th>Prob</th>\n",
       "    </tr>\n",
       "  </thead>\n",
       "  <tbody>\n",
       "    <tr>\n",
       "      <th>0</th>\n",
       "      <td>1</td>\n",
       "      <td>1</td>\n",
       "      <td>0.131579</td>\n",
       "    </tr>\n",
       "    <tr>\n",
       "      <th>1</th>\n",
       "      <td>1</td>\n",
       "      <td>2</td>\n",
       "      <td>0.266082</td>\n",
       "    </tr>\n",
       "    <tr>\n",
       "      <th>2</th>\n",
       "      <td>2</td>\n",
       "      <td>1</td>\n",
       "      <td>0.049708</td>\n",
       "    </tr>\n",
       "    <tr>\n",
       "      <th>3</th>\n",
       "      <td>2</td>\n",
       "      <td>2</td>\n",
       "      <td>0.204678</td>\n",
       "    </tr>\n",
       "    <tr>\n",
       "      <th>4</th>\n",
       "      <td>3</td>\n",
       "      <td>1</td>\n",
       "      <td>0.137427</td>\n",
       "    </tr>\n",
       "    <tr>\n",
       "      <th>5</th>\n",
       "      <td>3</td>\n",
       "      <td>2</td>\n",
       "      <td>0.210526</td>\n",
       "    </tr>\n",
       "  </tbody>\n",
       "</table>\n",
       "</div>"
      ],
      "text/plain": [
       "   Pclass  Sex      Prob\n",
       "0       1    1  0.131579\n",
       "1       1    2  0.266082\n",
       "2       2    1  0.049708\n",
       "3       2    2  0.204678\n",
       "4       3    1  0.137427\n",
       "5       3    2  0.210526"
      ]
     },
     "execution_count": 212,
     "metadata": {},
     "output_type": "execute_result"
    }
   ],
   "source": [
    "df = pd.DataFrame(ti)\n",
    "\n",
    "total_survived = [] #array to hold all the people that survived\n",
    "for item in df.Survived:\n",
    "    if item == 1:\n",
    "        track_num = item\n",
    "        total_survived.append(track_num)\n",
    "\n",
    "#replaced famle and male with values 1 and 2        \n",
    "df['Sex'].replace('female', 2, inplace=True)\n",
    "df['Sex'].replace('male',1,inplace=True)\n",
    "df['Sex'].astype('int64', copy=False)\n",
    "\n",
    "#make new dataframe that is grouped by Pclass and Sex. Aggregate the sum of the Survived data. \n",
    "ti_jrv = df.groupby(['Pclass', 'Sex']).agg({'Survived' : ['sum']})\n",
    "ti_jrv.columns = ['Prob']\n",
    "ti_jrv['Prob'] = ti_jrv.Prob.apply(lambda x : x / len(total_survived)) #find the probability of earch row.\n",
    "ti_jrv = ti_jrv.reset_index()\n",
    "ti_jrv\n"
   ]
  },
  {
   "cell_type": "markdown",
   "metadata": {},
   "source": [
    "### (1b) Argue that this is isn't a valid probability distribution\n",
    "\n",
    "Argue that this is or isn't a valid probability distribution over the product space of `Pclass * Sex`."
   ]
  },
  {
   "cell_type": "markdown",
   "metadata": {
    "deletable": false,
    "nbgrader": {
     "checksum": "8efb66e94bea12f1c2581f8fd13bae8c",
     "grade": true,
     "grade_id": "cell-e7941dde2c3c3099",
     "locked": false,
     "points": 5,
     "schema_version": 1,
     "solution": true
    }
   },
   "source": [
    "Although this shows a valid probability distribution over Pclass * Sex because the all probabilities add up to 1, we did alter the data origional data to show the probability of a class and sex surving out of just the individuals who survived. We removed the individuals who did not survive, ultimately changing the probility distribution.\n"
   ]
  },
  {
   "cell_type": "markdown",
   "metadata": {},
   "source": [
    "### (1c)  \"Marginalize\" the probability distribution to compute the survival probability by Sex alone\n",
    "\n",
    "Using the definition of marginalization, indicate the probability distribution of survival by Sex alone. \n",
    "\n",
    "You should assign your results to the variable `ti_sx` and print out your results."
   ]
  },
  {
   "cell_type": "code",
   "execution_count": 213,
   "metadata": {
    "deletable": false,
    "nbgrader": {
     "checksum": "26f937d30345952aa95881f92d744573",
     "grade": true,
     "grade_id": "cell-3f837285f04107d3",
     "locked": false,
     "points": 2,
     "schema_version": 1,
     "solution": true
    }
   },
   "outputs": [
    {
     "data": {
      "text/html": [
       "<div>\n",
       "<style scoped>\n",
       "    .dataframe tbody tr th:only-of-type {\n",
       "        vertical-align: middle;\n",
       "    }\n",
       "\n",
       "    .dataframe tbody tr th {\n",
       "        vertical-align: top;\n",
       "    }\n",
       "\n",
       "    .dataframe thead th {\n",
       "        text-align: right;\n",
       "    }\n",
       "</style>\n",
       "<table border=\"1\" class=\"dataframe\">\n",
       "  <thead>\n",
       "    <tr style=\"text-align: right;\">\n",
       "      <th></th>\n",
       "      <th>Sex</th>\n",
       "      <th>Prob</th>\n",
       "    </tr>\n",
       "  </thead>\n",
       "  <tbody>\n",
       "    <tr>\n",
       "      <th>0</th>\n",
       "      <td>1</td>\n",
       "      <td>0.318713</td>\n",
       "    </tr>\n",
       "    <tr>\n",
       "      <th>1</th>\n",
       "      <td>2</td>\n",
       "      <td>0.681287</td>\n",
       "    </tr>\n",
       "  </tbody>\n",
       "</table>\n",
       "</div>"
      ],
      "text/plain": [
       "   Sex      Prob\n",
       "0    1  0.318713\n",
       "1    2  0.681287"
      ]
     },
     "execution_count": 213,
     "metadata": {},
     "output_type": "execute_result"
    }
   ],
   "source": [
    "# your code here\n",
    "# create new dataframe with the marginalize values of each sex's survival probability \n",
    "ti_sx = ti_jrv.groupby(['Sex']).agg({'Prob': 'sum'})\n",
    "ti_sx = ti_sx.reset_index()\n",
    "ti_sx"
   ]
  },
  {
   "cell_type": "markdown",
   "metadata": {},
   "source": [
    "### (1d) Computed the expectation of the survival over the the Sex R.V.\n",
    "\n",
    "Assign your answer to the variable `ti_sx_e`"
   ]
  },
  {
   "cell_type": "code",
   "execution_count": 214,
   "metadata": {
    "deletable": false,
    "nbgrader": {
     "checksum": "9320cb6fea27658d48dd395e0fc7040c",
     "grade": true,
     "grade_id": "cell-c4b9ead756572744",
     "locked": false,
     "points": 3,
     "schema_version": 1,
     "solution": true
    }
   },
   "outputs": [
    {
     "data": {
      "text/plain": [
       "1.6812865497076024"
      ]
     },
     "execution_count": 214,
     "metadata": {},
     "output_type": "execute_result"
    }
   ],
   "source": [
    "# your code here\n",
    "# E[Sex]\n",
    "ti_sx_e = (ti_sx['Sex']*ti_sx['Prob']).sum()\n",
    "ti_sx_e"
   ]
  },
  {
   "cell_type": "markdown",
   "metadata": {},
   "source": [
    "### (1e) Marganlize the probability to compute survival probability for Pclass alone\n",
    "\n",
    "Using the definition of marginalization, indicate the probability distribution of survival by Pclass alone. \n",
    "\n",
    "You should assign your results to the variable `ti_cl` and print out your results."
   ]
  },
  {
   "cell_type": "code",
   "execution_count": 215,
   "metadata": {
    "deletable": false,
    "nbgrader": {
     "checksum": "3b16d3cf38b969c578f722dd45a460aa",
     "grade": true,
     "grade_id": "cell-d00ca1adfe7a3ccb",
     "locked": false,
     "points": 2,
     "schema_version": 1,
     "solution": true
    }
   },
   "outputs": [
    {
     "data": {
      "text/html": [
       "<div>\n",
       "<style scoped>\n",
       "    .dataframe tbody tr th:only-of-type {\n",
       "        vertical-align: middle;\n",
       "    }\n",
       "\n",
       "    .dataframe tbody tr th {\n",
       "        vertical-align: top;\n",
       "    }\n",
       "\n",
       "    .dataframe thead th {\n",
       "        text-align: right;\n",
       "    }\n",
       "</style>\n",
       "<table border=\"1\" class=\"dataframe\">\n",
       "  <thead>\n",
       "    <tr style=\"text-align: right;\">\n",
       "      <th></th>\n",
       "      <th>Pclass</th>\n",
       "      <th>Prob</th>\n",
       "    </tr>\n",
       "  </thead>\n",
       "  <tbody>\n",
       "    <tr>\n",
       "      <th>0</th>\n",
       "      <td>1</td>\n",
       "      <td>0.397661</td>\n",
       "    </tr>\n",
       "    <tr>\n",
       "      <th>1</th>\n",
       "      <td>2</td>\n",
       "      <td>0.254386</td>\n",
       "    </tr>\n",
       "    <tr>\n",
       "      <th>2</th>\n",
       "      <td>3</td>\n",
       "      <td>0.347953</td>\n",
       "    </tr>\n",
       "  </tbody>\n",
       "</table>\n",
       "</div>"
      ],
      "text/plain": [
       "   Pclass      Prob\n",
       "0       1  0.397661\n",
       "1       2  0.254386\n",
       "2       3  0.347953"
      ]
     },
     "execution_count": 215,
     "metadata": {},
     "output_type": "execute_result"
    }
   ],
   "source": [
    "# your code here\n",
    "# create new dataframe with the marginalize values of each Pclass's survival probability \n",
    "ti_cl = df.groupby(['Pclass']).agg({'Survived' : ['sum']})\n",
    "ti_cl.columns = ['Prob']\n",
    "ti_cl['Prob'] = ti_cl.Prob.apply(lambda x : x / len(total_survived))\n",
    "ti_cl = ti_cl.reset_index()\n",
    "\n",
    "ti_cl\n"
   ]
  },
  {
   "cell_type": "markdown",
   "metadata": {},
   "source": [
    "### (1f) Compute the expectation of survival over the Pclass R.V.\n",
    "\n",
    "Assign your answer to the variable `ti_cl_e`"
   ]
  },
  {
   "cell_type": "code",
   "execution_count": 216,
   "metadata": {
    "deletable": false,
    "nbgrader": {
     "checksum": "1d09a62340050307589ef407952cc801",
     "grade": true,
     "grade_id": "cell-d90bf4e220f17a5b",
     "locked": false,
     "points": 3,
     "schema_version": 1,
     "solution": true
    }
   },
   "outputs": [
    {
     "data": {
      "text/plain": [
       "1.9502923976608186"
      ]
     },
     "execution_count": 216,
     "metadata": {},
     "output_type": "execute_result"
    }
   ],
   "source": [
    "# your code here\n",
    "# E[Pclass]\n",
    "ti_cl_e = (ti_cl['Pclass']*ti_cl['Prob']).sum()\n",
    "ti_cl_e"
   ]
  },
  {
   "cell_type": "markdown",
   "metadata": {},
   "source": [
    "### (1g) Compute the joint expectation of survival E[Sex Pclass]\n",
    "\n",
    "Assign your answer to the variable `ti_jrv_e`"
   ]
  },
  {
   "cell_type": "code",
   "execution_count": 217,
   "metadata": {
    "deletable": false,
    "nbgrader": {
     "checksum": "dd2a84c66ef59679a79f879f19c61f39",
     "grade": true,
     "grade_id": "cell-4fec704de8b69159",
     "locked": false,
     "points": 5,
     "schema_version": 1,
     "solution": true
    }
   },
   "outputs": [
    {
     "data": {
      "text/plain": [
       "3.2573099415204676"
      ]
     },
     "execution_count": 217,
     "metadata": {},
     "output_type": "execute_result"
    }
   ],
   "source": [
    "# your code here\n",
    "# E[XY]\n",
    "ti_jrv_e = (ti_jrv['Pclass'] * ti_jrv['Sex'] * ti_jrv['Prob']).sum()\n",
    "ti_jrv_e"
   ]
  },
  {
   "cell_type": "markdown",
   "metadata": {},
   "source": [
    "### (1h) Compute the Covariance\n",
    "\n",
    "Compute the covariance of the Sex Pclass joint distribution. Assign the value to `ti_jrv_cov` and print out the value. You can use any method discussed in Chapter 10.2 to compute the covariance although some will be easier than others."
   ]
  },
  {
   "cell_type": "code",
   "execution_count": 218,
   "metadata": {
    "deletable": false,
    "nbgrader": {
     "checksum": "2480f38b5c77c1be3396a2e51b3027f8",
     "grade": true,
     "grade_id": "cell-e9afedfec96ad392",
     "locked": false,
     "points": 5,
     "schema_version": 1,
     "solution": true
    }
   },
   "outputs": [
    {
     "data": {
      "text/plain": [
       "-0.0216904346636575"
      ]
     },
     "execution_count": 218,
     "metadata": {},
     "output_type": "execute_result"
    }
   ],
   "source": [
    "# your code here\n",
    "# Cov(X,Y) = E[XY] - E[X]E[Y]\n",
    "ti_jrv_cov = ti_jrv_e - (ti_cl_e*ti_sx_e)\n",
    "ti_jrv_cov"
   ]
  },
  {
   "cell_type": "markdown",
   "metadata": {},
   "source": [
    "### (1i) Argue that R.V.'s Sex and PClass are or are not independent. \n",
    "\n",
    "Based on the computations above, argue in words why you do or do not believe that the surival rate distributed by Sex and PClass are independent. Use quantitative arguments if possible."
   ]
  },
  {
   "cell_type": "markdown",
   "metadata": {
    "jupyter": {
     "outputs_hidden": true
    }
   },
   "source": [
    "Based on the data from the Covariance, the surival rate distributed by Sex and PClass are dependent but negatively correlated. If the RV were independent of eachother then E[XY] = E[X]E[Y] and the Cov(X,Y) would equal 0.\n",
    "\n",
    "\n",
    "A negative value means the survival rate increases when the class goes down (i.e towards 1st class) and the gender goes up (male = 1 , female =2), showing opposite behavior "
   ]
  },
  {
   "cell_type": "markdown",
   "metadata": {},
   "source": [
    "### (1j) Calculate the correlation coefficient of the Sex and PClass variables.\n",
    "\n",
    "You should assign the final value to variable `ti_jrv_cor`"
   ]
  },
  {
   "cell_type": "code",
   "execution_count": 219,
   "metadata": {
    "deletable": false,
    "nbgrader": {
     "checksum": "9614fc5d30e1de7218196e6f03df879b",
     "grade": true,
     "grade_id": "cell-c67c16670fbc7897",
     "locked": false,
     "points": 5,
     "schema_version": 1,
     "solution": true
    }
   },
   "outputs": [
    {
     "data": {
      "text/plain": [
       "-0.015356466294964283"
      ]
     },
     "execution_count": 219,
     "metadata": {},
     "output_type": "execute_result"
    }
   ],
   "source": [
    "#your code here\n",
    "#Variance\n",
    "#Var(X) = E[X^2] - (E[X])^2\n",
    "E_sexSqr = ((ti_sx['Sex']*ti_sx['Prob'])**2).sum()\n",
    "var_sex = E_sexSqr - (ti_sx_e**2)\n",
    "\n",
    "#Var(Y) = E[Y^2] - (E[Y])^2\n",
    "E_pclassSqr = ((ti_cl['Pclass']*ti_cl['Prob'])**2).sum()\n",
    "var_pclass = E_pclassSqr - (ti_cl_e**2)\n",
    "\n",
    "#correlation coefficient\n",
    "#p(X,Y) = Cov(X,Y) / (sqrt(Var(X)*Var(Y)))\n",
    "ti_jrv_cor = ti_jrv_cov / math.sqrt(var_sex*var_pclass)\n",
    "ti_jrv_cor"
   ]
  },
  {
   "cell_type": "markdown",
   "metadata": {},
   "source": [
    "### (1k) Are the survival probabilities between Sex and PClass correlated?\n",
    "\n",
    "Use the data from the joint probability distribution to argue why your correlation coefficient makes sense. You can also use the probability distribution of the marginal R.V.'s (i.e. just Sex or just PClass) to motivate your argument, but you must eventually explain why the *joint* distribution has the correlation coefficient you've calculated."
   ]
  },
  {
   "cell_type": "markdown",
   "metadata": {
    "deletable": false,
    "nbgrader": {
     "checksum": "b7848aef4a37a53046bdaf1fe408d073",
     "grade": true,
     "grade_id": "cell-70c3f2b789f37af9",
     "locked": false,
     "points": 5,
     "schema_version": 1,
     "solution": true
    }
   },
   "source": [
    "The Correlation Coefficient being negative is consistant with the covariance being negative as well. The covariance shows us that the two varables are moving away from eachother and the Correlation Coefficient backs that up because the value is between 0 and -1. \n",
    "\n",
    "There is a slight negative correlation of the survival probability between Sex and Pclass. This makes sense because you can see that from the marginal data for the Pclass probability goes 1st class .39 , 2nd calss .25 and 3rd class .34. Which shows that the probability of survival goes down then up but still lower than first class. Which shoes a negative downward trend. For the marginal data of Sex, the probability goes males(1) = .31 and females(2) = .68. Which shows an upward trend. Ultimately giving the correlation coefficient a negative value. Since the negative value is closer to zero, this also tells us that there isnt always a consistant decrease in probabilities of one of the variables. \n",
    "\n",
    "The big picture reasoning be the survival rate increases when the class goes down (i.e towards 1st class) and the gender goes up (male = 1 , female =2), showing opposite behavior"
   ]
  },
  {
   "cell_type": "code",
   "execution_count": 2,
   "metadata": {},
   "outputs": [
    {
     "ename": "NameError",
     "evalue": "name 'cdf_binomial' is not defined",
     "output_type": "error",
     "traceback": [
      "\u001b[0;31m---------------------------------------------------------------------------\u001b[0m",
      "\u001b[0;31mNameError\u001b[0m                                 Traceback (most recent call last)",
      "\u001b[0;32m<ipython-input-2-eb874e40cead>\u001b[0m in \u001b[0;36m<module>\u001b[0;34m\u001b[0m\n\u001b[0;32m----> 1\u001b[0;31m \u001b[0mtemp\u001b[0m \u001b[0;34m=\u001b[0m \u001b[0mcdf_binomial\u001b[0m\u001b[0;34m(\u001b[0m\u001b[0;36m1\u001b[0m\u001b[0;34m,\u001b[0m\u001b[0;36m3\u001b[0m\u001b[0;34m,\u001b[0m\u001b[0;36m0.07\u001b[0m\u001b[0;34m)\u001b[0m\u001b[0;34m\u001b[0m\u001b[0;34m\u001b[0m\u001b[0m\n\u001b[0m",
      "\u001b[0;31mNameError\u001b[0m: name 'cdf_binomial' is not defined"
     ]
    }
   ],
   "source": [
    "temp = cdf_binomial(1,3,0.07)"
   ]
  },
  {
   "cell_type": "code",
   "execution_count": null,
   "metadata": {},
   "outputs": [],
   "source": []
  }
 ],
 "metadata": {
  "kernelspec": {
   "display_name": "Python 3",
   "language": "python",
   "name": "python3"
  },
  "language_info": {
   "codemirror_mode": {
    "name": "ipython",
    "version": 3
   },
   "file_extension": ".py",
   "mimetype": "text/x-python",
   "name": "python",
   "nbconvert_exporter": "python",
   "pygments_lexer": "ipython3",
   "version": "3.8.5"
  }
 },
 "nbformat": 4,
 "nbformat_minor": 4
}
